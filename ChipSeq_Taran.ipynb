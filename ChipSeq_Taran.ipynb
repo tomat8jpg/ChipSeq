{
  "nbformat": 4,
  "nbformat_minor": 0,
  "metadata": {
    "colab": {
      "provenance": [],
      "authorship_tag": "ABX9TyMngclG8lT37WYISSdhfQAi",
      "include_colab_link": true
    },
    "kernelspec": {
      "name": "python3",
      "display_name": "Python 3"
    },
    "language_info": {
      "name": "python"
    },
    "widgets": {
      "application/vnd.jupyter.widget-state+json": {
        "dd52c793975b4ead846d0068409d7555": {
          "model_module": "@jupyter-widgets/output",
          "model_name": "OutputModel",
          "model_module_version": "1.0.0",
          "state": {
            "_dom_classes": [],
            "_model_module": "@jupyter-widgets/output",
            "_model_module_version": "1.0.0",
            "_model_name": "OutputModel",
            "_view_count": null,
            "_view_module": "@jupyter-widgets/output",
            "_view_module_version": "1.0.0",
            "_view_name": "OutputView",
            "layout": "IPY_MODEL_166a35593c68422899a007cbef4d8627",
            "msg_id": "",
            "outputs": [
              {
                "output_type": "display_data",
                "data": {
                  "text/plain": "\u001b[34m|\u001b[0m       \u001b[32m⠹\u001b[0m \u001b[34msearching\u001b[0m | \u001b[38;2;249;38;114m━━━━━━━━━━━━━━━━━━━━━━━━━━━━━━━━\u001b[0m\u001b[38;2;249;38;114m╸\u001b[0m\u001b[38;5;237m━━━━━━\u001b[0m \u001b[35m 83%\u001b[0m \u001b[32m5/6\u001b[0m \u001b[2m/content/trimmfqc/UxuR_2_trimmed_fastqc.html\u001b[0m\n",
                  "text/html": "<pre style=\"white-space:pre;overflow-x:auto;line-height:normal;font-family:Menlo,'DejaVu Sans Mono',consolas,'Courier New',monospace\"><span style=\"color: #000080; text-decoration-color: #000080\">|</span>       <span style=\"color: #008000; text-decoration-color: #008000\">⠹</span> <span style=\"color: #000080; text-decoration-color: #000080\">searching</span> | <span style=\"color: #f92672; text-decoration-color: #f92672\">━━━━━━━━━━━━━━━━━━━━━━━━━━━━━━━━╸</span><span style=\"color: #3a3a3a; text-decoration-color: #3a3a3a\">━━━━━━</span> <span style=\"color: #800080; text-decoration-color: #800080\"> 83%</span> <span style=\"color: #008000; text-decoration-color: #008000\">5/6</span> <span style=\"color: #7f7f7f; text-decoration-color: #7f7f7f\">/content/trimmfqc/UxuR_2_trimmed_fastqc.html</span>\n</pre>\n"
                },
                "metadata": {}
              }
            ]
          }
        },
        "166a35593c68422899a007cbef4d8627": {
          "model_module": "@jupyter-widgets/base",
          "model_name": "LayoutModel",
          "model_module_version": "1.2.0",
          "state": {
            "_model_module": "@jupyter-widgets/base",
            "_model_module_version": "1.2.0",
            "_model_name": "LayoutModel",
            "_view_count": null,
            "_view_module": "@jupyter-widgets/base",
            "_view_module_version": "1.2.0",
            "_view_name": "LayoutView",
            "align_content": null,
            "align_items": null,
            "align_self": null,
            "border": null,
            "bottom": null,
            "display": null,
            "flex": null,
            "flex_flow": null,
            "grid_area": null,
            "grid_auto_columns": null,
            "grid_auto_flow": null,
            "grid_auto_rows": null,
            "grid_column": null,
            "grid_gap": null,
            "grid_row": null,
            "grid_template_areas": null,
            "grid_template_columns": null,
            "grid_template_rows": null,
            "height": null,
            "justify_content": null,
            "justify_items": null,
            "left": null,
            "margin": null,
            "max_height": null,
            "max_width": null,
            "min_height": null,
            "min_width": null,
            "object_fit": null,
            "object_position": null,
            "order": null,
            "overflow": null,
            "overflow_x": null,
            "overflow_y": null,
            "padding": null,
            "right": null,
            "top": null,
            "visibility": null,
            "width": null
          }
        }
      }
    }
  },
  "cells": [
    {
      "cell_type": "markdown",
      "metadata": {
        "id": "view-in-github",
        "colab_type": "text"
      },
      "source": [
        "<a href=\"https://colab.research.google.com/github/tomat8jpg/ChipSeq/blob/main/ChipSeq_Taran.ipynb\" target=\"_parent\"><img src=\"https://colab.research.google.com/assets/colab-badge.svg\" alt=\"Open In Colab\"/></a>"
      ]
    },
    {
      "cell_type": "markdown",
      "source": [
        "### установка необходимых программ"
      ],
      "metadata": {
        "id": "gYktVNd2yZ4H"
      }
    },
    {
      "cell_type": "code",
      "source": [
        "from google.colab import drive"
      ],
      "metadata": {
        "id": "__M748TY4lRp"
      },
      "execution_count": null,
      "outputs": []
    },
    {
      "cell_type": "code",
      "source": [
        "drive.mount('/content/drive')"
      ],
      "metadata": {
        "colab": {
          "base_uri": "https://localhost:8080/"
        },
        "id": "JN6Gfp8R4ktq",
        "outputId": "384a5bf6-b734-4e03-a3f5-eeaaa7a8d950"
      },
      "execution_count": null,
      "outputs": [
        {
          "output_type": "stream",
          "name": "stdout",
          "text": [
            "Mounted at /content/drive\n"
          ]
        }
      ]
    },
    {
      "cell_type": "code",
      "execution_count": null,
      "metadata": {
        "id": "3xpxur4-yLw3"
      },
      "outputs": [],
      "source": [
        "pip install -q condacolab"
      ]
    },
    {
      "cell_type": "code",
      "source": [
        "import condacolab"
      ],
      "metadata": {
        "id": "7H7vdB3syPXe"
      },
      "execution_count": null,
      "outputs": []
    },
    {
      "cell_type": "code",
      "source": [
        "condacolab.install()"
      ],
      "metadata": {
        "colab": {
          "base_uri": "https://localhost:8080/"
        },
        "id": "fvaxTAsVyQ5O",
        "outputId": "89cc1a1d-48bd-40bb-e631-555379749da9"
      },
      "execution_count": null,
      "outputs": [
        {
          "output_type": "stream",
          "name": "stdout",
          "text": [
            "⏬ Downloading https://github.com/jaimergp/miniforge/releases/latest/download/Mambaforge-colab-Linux-x86_64.sh...\n",
            "📦 Installing...\n",
            "📌 Adjusting configuration...\n",
            "🩹 Patching environment...\n",
            "⏲ Done in 0:00:14\n",
            "🔁 Restarting kernel...\n"
          ]
        }
      ]
    },
    {
      "cell_type": "code",
      "source": [
        "!conda install -c bioconda seqtk"
      ],
      "metadata": {
        "id": "7kGkrRSIyZOK"
      },
      "execution_count": null,
      "outputs": []
    },
    {
      "cell_type": "code",
      "source": [
        "!conda install -c bioconda trimmomatic"
      ],
      "metadata": {
        "id": "49ehanzPyWCT"
      },
      "execution_count": null,
      "outputs": []
    },
    {
      "cell_type": "code",
      "source": [
        "!pip install macs2 intervene"
      ],
      "metadata": {
        "id": "iiMaVkE2yec1"
      },
      "execution_count": null,
      "outputs": []
    },
    {
      "cell_type": "code",
      "source": [
        "!apt-get install bedtools"
      ],
      "metadata": {
        "id": "EtTSMCMuyjQ5"
      },
      "execution_count": null,
      "outputs": []
    },
    {
      "cell_type": "code",
      "source": [
        "!apt-get install bowtie2 samtools"
      ],
      "metadata": {
        "id": "7jHCE-U3ylEw"
      },
      "execution_count": null,
      "outputs": []
    },
    {
      "cell_type": "code",
      "source": [
        "!conda install -c bioconda bowtie2"
      ],
      "metadata": {
        "id": "kKLZARDCynsM"
      },
      "execution_count": null,
      "outputs": []
    },
    {
      "cell_type": "markdown",
      "source": [
        "### Установка FastQC"
      ],
      "metadata": {
        "id": "71rmn0QiTa-c"
      }
    },
    {
      "cell_type": "code",
      "source": [
        "!java -version"
      ],
      "metadata": {
        "id": "FCfJFTioT9IS"
      },
      "execution_count": null,
      "outputs": []
    },
    {
      "cell_type": "code",
      "source": [
        "!wget https://www.bioinformatics.babraham.ac.uk/projects/fastqc/fastqc_v0.11.9.zip"
      ],
      "metadata": {
        "id": "2NN8lc0zyrHA"
      },
      "execution_count": null,
      "outputs": []
    },
    {
      "cell_type": "code",
      "source": [
        "!unzip fastqc_v0.11.9.zip"
      ],
      "metadata": {
        "id": "ww_Ws8X9ytx1"
      },
      "execution_count": null,
      "outputs": []
    },
    {
      "cell_type": "code",
      "source": [
        "!chmod a+x FastQC/fastqc"
      ],
      "metadata": {
        "id": "E_zloPVNyv7I"
      },
      "execution_count": null,
      "outputs": []
    },
    {
      "cell_type": "code",
      "source": [
        "!./FastQC/fastqc --help"
      ],
      "metadata": {
        "id": "FLhoSoydCPVX"
      },
      "execution_count": null,
      "outputs": []
    },
    {
      "cell_type": "code",
      "source": [
        "pip install multiqc"
      ],
      "metadata": {
        "id": "16Gl8iCECS7h"
      },
      "execution_count": null,
      "outputs": []
    },
    {
      "cell_type": "markdown",
      "source": [
        "### Скачивание данных для белка UxuR\n"
      ],
      "metadata": {
        "id": "rBfoSZAcznSt"
      }
    },
    {
      "cell_type": "code",
      "source": [
        "!cd /content/drive/MyDrive/HSE_2022"
      ],
      "metadata": {
        "id": "Vvyp8riA2h5F"
      },
      "execution_count": null,
      "outputs": []
    },
    {
      "cell_type": "code",
      "source": [
        "!cp -R /content/drive/MyDrive/HSE_2022 /content/"
      ],
      "metadata": {
        "id": "QMSz6w_gNtA-"
      },
      "execution_count": null,
      "outputs": []
    },
    {
      "cell_type": "code",
      "source": [
        "!mkdir /content/fastqcdata"
      ],
      "metadata": {
        "id": "Tia1-gLqBUmJ"
      },
      "execution_count": null,
      "outputs": []
    },
    {
      "cell_type": "code",
      "source": [
        "!mv /content/HSE_2022/UxuR_1.fastq /content/fastqcdata\n",
        "!mv /content/HSE_2022/UxuR_2.fastq /content/fastqcdata\n",
        "!mv /content/HSE_2022/UxuR_control.fastq /content/fastqcdata\n"
      ],
      "metadata": {
        "id": "RjNmP9qMOEyg"
      },
      "execution_count": null,
      "outputs": []
    },
    {
      "cell_type": "markdown",
      "source": [
        "### Экстрагируйте риды и обрежьте их с помощью Trimmomatic*"
      ],
      "metadata": {
        "id": "TKmSTy9qUiIT"
      }
    },
    {
      "cell_type": "code",
      "source": [
        "!./FastQC/fastqc /content/fastqcdata/UxuR_1.fastq\n",
        "!./FastQC/fastqc /content/fastqcdata/UxuR_2.fastq\n",
        "!./FastQC/fastqc /content/fastqcdata/UxuR_control.fastq\n",
        "\n"
      ],
      "metadata": {
        "id": "X_1q3RgBPwct"
      },
      "execution_count": null,
      "outputs": []
    },
    {
      "cell_type": "code",
      "source": [
        "import multiqc"
      ],
      "metadata": {
        "id": "QLemvIxg8N79"
      },
      "execution_count": null,
      "outputs": []
    },
    {
      "cell_type": "code",
      "source": [
        "multiqc.run(\"/content/fastqcdata\")"
      ],
      "metadata": {
        "id": "8yAGnUpL8Rib"
      },
      "execution_count": null,
      "outputs": []
    },
    {
      "cell_type": "markdown",
      "source": [
        "Репорты прикрепляю отдельными файлами, см. папку fqc reports"
      ],
      "metadata": {
        "id": "Q5-BH0PGEBEs"
      }
    },
    {
      "cell_type": "code",
      "source": [
        "!mv /content/fastqcdata/UxuR_1.fastq /content\n",
        "!mv /content/fastqcdata/UxuR_2.fastq /content\n",
        "!mv /content/fastqcdata/UxuR_control.fastq /content"
      ],
      "metadata": {
        "id": "GEWMGh4hZJRw"
      },
      "execution_count": null,
      "outputs": []
    },
    {
      "cell_type": "code",
      "source": [
        "# Необходимо добавить опцию обрезания адаптеров TruSeq, т.к. в репортах fastqc они показываются с высоким процентом\n",
        "# Последовательность линкера и праймера в TruSeq3-SE, \n",
        "# первый шаг начального поиска допускает 2 базовых несоответствия,\n",
        "# пороговое значение оценки сравнения палендрома 30, \n",
        "# порог оценки простого сравнения клипов 10. "
      ],
      "metadata": {
        "id": "lT-cB-INMz_N"
      },
      "execution_count": null,
      "outputs": []
    },
    {
      "cell_type": "code",
      "source": [
        "!trimmomatic -version"
      ],
      "metadata": {
        "colab": {
          "base_uri": "https://localhost:8080/"
        },
        "id": "yZmTGvYmZpon",
        "outputId": "ede6a5e9-1f1d-45b6-d41f-e34b81a1c70b"
      },
      "execution_count": null,
      "outputs": [
        {
          "output_type": "stream",
          "name": "stdout",
          "text": [
            "0.39\n"
          ]
        }
      ]
    },
    {
      "cell_type": "code",
      "source": [
        "!trimmomatic SE -phred33 /content/UxuR_1.fastq UxuR_1_trimmed.fastq ILLUMINACLIP:TruSeq3-SE:2:30:10 \\\n",
        "  LEADING:30 TRAILING:30 SLIDINGWINDOW:5:20 MINLEN:40\n",
        "\n",
        "\n",
        "# Input Reads: 58606277 Surviving: 56486606 (96.38%) Dropped: 2119671 (3.62%)"
      ],
      "metadata": {
        "id": "-Vh4Hc-_QskI"
      },
      "execution_count": null,
      "outputs": []
    },
    {
      "cell_type": "code",
      "source": [
        "!trimmomatic SE -phred33 /content/UxuR_2.fastq UxuR_2_trimmed.fastq ILLUMINACLIP:TruSeq3-SE:2:30:10 \\\n",
        "  LEADING:30 TRAILING:30 SLIDINGWINDOW:5:20 MINLEN:40\n",
        "\n",
        "#Input Reads: 23901482 Surviving: 23532345 (98.46%) Dropped: 369137 (1.54%)\n",
        "\n",
        "!trimmomatic SE -phred33 /content/UxuR_control.fastq UxuR_control_trimmed.fastq ILLUMINACLIP:TruSeq3-SE:2:30:10 \\\n",
        "  LEADING:30 TRAILING:30 SLIDINGWINDOW:5:20 MINLEN:40\n",
        "\n",
        "#Input Reads: 22987727 Surviving: 22687484 (98.69%) Dropped: 300243 (1.31%)\n"
      ],
      "metadata": {
        "id": "LrAnOHfUIAG3"
      },
      "execution_count": null,
      "outputs": []
    },
    {
      "cell_type": "code",
      "source": [
        "# Удаляю неподрезанные чтения, чтобы не мешались и не занимали место\n",
        "!rm -d UxuR_1.fastq\n",
        "!rm -d UxuR_2.fastq\n",
        "!rm -d UxuR_control.fastq"
      ],
      "metadata": {
        "id": "T-4pHUX7SrtK"
      },
      "execution_count": null,
      "outputs": []
    },
    {
      "cell_type": "markdown",
      "source": [
        "Повторный контроль качества"
      ],
      "metadata": {
        "id": "-6zc3FTjD29p"
      }
    },
    {
      "cell_type": "code",
      "source": [
        "!./FastQC/fastqc /content/UxuR_1_trimmed.fastq\n",
        "!./FastQC/fastqc /content/UxuR_2_trimmed.fastq\n",
        "!./FastQC/fastqc /content/UxuR_control_trimmed.fastq\n"
      ],
      "metadata": {
        "id": "QiLmLlWcT2vT"
      },
      "execution_count": null,
      "outputs": []
    },
    {
      "cell_type": "code",
      "source": [
        "!mkdir trimmfqc"
      ],
      "metadata": {
        "id": "iO4D-VgToodX"
      },
      "execution_count": null,
      "outputs": []
    },
    {
      "cell_type": "code",
      "source": [
        "!mv /content/UxuR_1_trimmed_fastqc.html /content/trimmfqc\n",
        "!mv /content/UxuR_2_trimmed_fastqc.html /content/trimmfqc\n",
        "!mv /content/UxuR_1_trimmed_fastqc.zip /content/trimmfqc\n",
        "!mv /content/UxuR_2_trimmed_fastqc.zip /content/trimmfqc\n"
      ],
      "metadata": {
        "id": "1WdREzlior5W"
      },
      "execution_count": null,
      "outputs": []
    },
    {
      "cell_type": "code",
      "source": [
        "!mv /content/UxuR_control_trimmed_fastqc.html /content/trimmfqc\n",
        "!mv /content/UxuR_control_trimmed_fastqc.zip /content/trimmfqc"
      ],
      "metadata": {
        "id": "lEiKwrHvpE6Y"
      },
      "execution_count": null,
      "outputs": []
    },
    {
      "cell_type": "code",
      "source": [
        "!rm -d UxuR_1_fastqc.html\n",
        "!rm -d UxuR_2_fastqc.html\n",
        "!rm -d UxuR_control_fastqc.html\n",
        "!rm -d UxuR_1_fastqc.zip\n",
        "!rm -d UxuR_2_fastqc.zip\n",
        "!rm -d UxuR_control_fastqc.zip"
      ],
      "metadata": {
        "id": "yh0e0jutnbpJ"
      },
      "execution_count": null,
      "outputs": []
    },
    {
      "cell_type": "code",
      "source": [
        "# !multiqc ."
      ],
      "metadata": {
        "colab": {
          "base_uri": "https://localhost:8080/"
        },
        "id": "kR2b5Ja0pr2E",
        "outputId": "fc120edd-72cf-4888-f7a9-a21304959d21"
      },
      "execution_count": null,
      "outputs": [
        {
          "output_type": "stream",
          "name": "stdout",
          "text": [
            "\n",
            "  \u001b[34m/\u001b[0m\u001b[32m/\u001b[0m\u001b[31m/\u001b[0m \u001b]8;id=263208;https://multiqc.info\u001b\\\u001b[1mMultiQC\u001b[0m\u001b]8;;\u001b\\ 🔍 \u001b[2m| v1.13\u001b[0m\n",
            "\n",
            "\u001b[34m|           multiqc\u001b[0m | Search path : /content\n",
            "\n",
            "\u001b[31mAborted.\u001b[0m\n"
          ]
        }
      ]
    },
    {
      "cell_type": "code",
      "source": [
        "multiqc.run(\"/content/trimmfqc\")"
      ],
      "metadata": {
        "colab": {
          "base_uri": "https://localhost:8080/",
          "height": 225,
          "referenced_widgets": [
            "dd52c793975b4ead846d0068409d7555",
            "166a35593c68422899a007cbef4d8627"
          ]
        },
        "id": "v60MwchbpQKo",
        "outputId": "8a4ed17e-c2b7-46ee-c302-66d5c1e77a39"
      },
      "execution_count": null,
      "outputs": [
        {
          "output_type": "display_data",
          "data": {
            "text/plain": [
              "\n",
              "  \u001b[34m/\u001b[0m\u001b[32m/\u001b[0m\u001b[31m/\u001b[0m \u001b]8;id=13196;https://multiqc.info\u001b\\\u001b[1mMultiQC\u001b[0m\u001b]8;;\u001b\\ 🔍 \u001b[2m| v1.13\u001b[0m\n",
              "\n"
            ],
            "text/html": [
              "<pre style=\"white-space:pre;overflow-x:auto;line-height:normal;font-family:Menlo,'DejaVu Sans Mono',consolas,'Courier New',monospace\">\n",
              "  <span style=\"color: #000080; text-decoration-color: #000080\">/</span><span style=\"color: #008000; text-decoration-color: #008000\">/</span><span style=\"color: #800000; text-decoration-color: #800000\">/</span> <a href=\"https://multiqc.info\" target=\"_blank\"><span style=\"font-weight: bold\">MultiQC</span></a> 🔍 <span style=\"color: #7f7f7f; text-decoration-color: #7f7f7f\">| v1.13</span>\n",
              "\n",
              "</pre>\n"
            ]
          },
          "metadata": {}
        },
        {
          "output_type": "stream",
          "name": "stderr",
          "text": [
            "|           multiqc | Search path : /content/trimmfqc\n"
          ]
        },
        {
          "output_type": "display_data",
          "data": {
            "text/plain": [
              "Output()"
            ],
            "application/vnd.jupyter.widget-view+json": {
              "version_major": 2,
              "version_minor": 0,
              "model_id": "dd52c793975b4ead846d0068409d7555"
            }
          },
          "metadata": {}
        },
        {
          "output_type": "display_data",
          "data": {
            "text/plain": [],
            "text/html": [
              "<pre style=\"white-space:pre;overflow-x:auto;line-height:normal;font-family:Menlo,'DejaVu Sans Mono',consolas,'Courier New',monospace\"></pre>\n"
            ]
          },
          "metadata": {}
        },
        {
          "output_type": "display_data",
          "data": {
            "text/plain": [
              "\n"
            ],
            "text/html": [
              "<pre style=\"white-space:pre;overflow-x:auto;line-height:normal;font-family:Menlo,'DejaVu Sans Mono',consolas,'Courier New',monospace\">\n",
              "</pre>\n"
            ]
          },
          "metadata": {}
        },
        {
          "output_type": "stream",
          "name": "stderr",
          "text": [
            "|            fastqc | Found 3 reports\n",
            "|           multiqc | Compressing plot data\n",
            "|           multiqc | Report      : multiqc_report.html\n",
            "|           multiqc | Data        : multiqc_data\n",
            "|           multiqc | MultiQC complete\n"
          ]
        },
        {
          "output_type": "execute_result",
          "data": {
            "text/plain": [
              "{'report': <module 'multiqc.utils.report' from '/usr/local/lib/python3.8/site-packages/multiqc/utils/report.py'>,\n",
              " 'config': <module 'multiqc.utils.config' from '/usr/local/lib/python3.8/site-packages/multiqc/utils/config.py'>,\n",
              " 'sys_exit_code': 0}"
            ]
          },
          "metadata": {},
          "execution_count": 34
        }
      ]
    },
    {
      "cell_type": "code",
      "source": [
        "!rm -d /content/trimmfqc/UxuR_1_trimmed_fastqc.html\n",
        "!rm -d /content/trimmfqc/UxuR_2_trimmed_fastqc.html\n",
        "!rm -d /content/trimmfqc/UxuR_control_trimmed_fastqc.html\n",
        "!rm -d /content/trimmfqc/UxuR_1_trimmed_fastqc.zip\n",
        "!rm -d /content/trimmfqc/UxuR_2_trimmed_fastqc.zip\n",
        "!rm -d /content/trimmfqc/UxuR_control_trimmed_fastqc.zip"
      ],
      "metadata": {
        "id": "DxpYQZzHK0cZ"
      },
      "execution_count": null,
      "outputs": []
    },
    {
      "cell_type": "markdown",
      "source": [
        "### Наложите на геном E. coli K-12 MG1655 genome с помощью Bowtie *"
      ],
      "metadata": {
        "id": "48cXx5vmUlkl"
      }
    },
    {
      "cell_type": "code",
      "source": [
        "! wget \"https://www.ncbi.nlm.nih.gov/sviewer/viewer.cgi?tool=portal&save=file&log$=seqview&db=nuccore&report=fasta&id=545778205&extrafeat=null&conwithfeat=on&hide-cdd=on\" -O U00096.3.fasta"
      ],
      "metadata": {
        "id": "AGxoGT3sfJTl"
      },
      "execution_count": null,
      "outputs": []
    },
    {
      "cell_type": "code",
      "source": [
        "!bowtie2-build U00096.3.fasta genome_index"
      ],
      "metadata": {
        "id": "HoAyjjGzfoXE"
      },
      "execution_count": null,
      "outputs": []
    },
    {
      "cell_type": "code",
      "source": [
        "# реплика1\n",
        "%%time\n",
        "!bowtie2  -p 2 \\\n",
        "          -x genome_index \\\n",
        "          -U UxuR_1_trimmed.fastq \\\n",
        "          -S UxuR_1.sam"
      ],
      "metadata": {
        "colab": {
          "base_uri": "https://localhost:8080/"
        },
        "id": "4T3CoZhpftT2",
        "outputId": "d1c8edbf-7cf3-4995-834b-9fe60e5eb124"
      },
      "execution_count": null,
      "outputs": [
        {
          "output_type": "stream",
          "name": "stdout",
          "text": [
            "56486606 reads; of these:\n",
            "  56486606 (100.00%) were unpaired; of these:\n",
            "    19894124 (35.22%) aligned 0 times\n",
            "    35378152 (62.63%) aligned exactly 1 time\n",
            "    1214330 (2.15%) aligned >1 times\n",
            "64.78% overall alignment rate\n",
            "CPU times: user 11.6 s, sys: 1.39 s, total: 12.9 s\n",
            "Wall time: 25min 28s\n"
          ]
        }
      ]
    },
    {
      "cell_type": "code",
      "source": [
        "!rm -d UxuR_1_trimmed.fastq"
      ],
      "metadata": {
        "id": "vKQeCLh7oWHo"
      },
      "execution_count": null,
      "outputs": []
    },
    {
      "cell_type": "code",
      "source": [
        "# реплика2\n",
        "%%time\n",
        "!bowtie2  -p 2 \\\n",
        "          -x genome_index \\\n",
        "          -U UxuR_2_trimmed.fastq \\\n",
        "          -S UxuR_2.sam"
      ],
      "metadata": {
        "colab": {
          "base_uri": "https://localhost:8080/"
        },
        "id": "rLkshCiEkfON",
        "outputId": "96193468-8f6d-4544-dd57-ab39e406ab95"
      },
      "execution_count": null,
      "outputs": [
        {
          "output_type": "stream",
          "name": "stdout",
          "text": [
            "23532345 reads; of these:\n",
            "  23532345 (100.00%) were unpaired; of these:\n",
            "    3574800 (15.19%) aligned 0 times\n",
            "    19255417 (81.83%) aligned exactly 1 time\n",
            "    702128 (2.98%) aligned >1 times\n",
            "84.81% overall alignment rate\n",
            "CPU times: user 5.93 s, sys: 709 ms, total: 6.64 s\n",
            "Wall time: 12min 26s\n"
          ]
        }
      ]
    },
    {
      "cell_type": "code",
      "source": [
        "!rm -d UxuR_2_trimmed.fastq"
      ],
      "metadata": {
        "id": "jok2zjx4obDx"
      },
      "execution_count": null,
      "outputs": []
    },
    {
      "cell_type": "code",
      "source": [
        "# контроль\n",
        "%%time\n",
        "!bowtie2  -p 2 \\\n",
        "          -x genome_index \\\n",
        "          -U UxuR_control_trimmed.fastq \\\n",
        "          -S UxuR_control.sam"
      ],
      "metadata": {
        "colab": {
          "base_uri": "https://localhost:8080/"
        },
        "id": "welERbhMqYKJ",
        "outputId": "7383f8cb-bd78-400b-8c2d-f2ac87b6c424"
      },
      "execution_count": null,
      "outputs": [
        {
          "output_type": "stream",
          "name": "stdout",
          "text": [
            "22687484 reads; of these:\n",
            "  22687484 (100.00%) were unpaired; of these:\n",
            "    7496141 (33.04%) aligned 0 times\n",
            "    14692726 (64.76%) aligned exactly 1 time\n",
            "    498617 (2.20%) aligned >1 times\n",
            "66.96% overall alignment rate\n",
            "CPU times: user 5.53 s, sys: 640 ms, total: 6.17 s\n",
            "Wall time: 10min 57s\n"
          ]
        }
      ]
    },
    {
      "cell_type": "code",
      "source": [
        "!rm -d UxuR_control_trimmed.fastq"
      ],
      "metadata": {
        "id": "RmwDOsvDqYy2"
      },
      "execution_count": null,
      "outputs": []
    },
    {
      "cell_type": "markdown",
      "source": [
        "Преобразование .sam в .bam "
      ],
      "metadata": {
        "id": "2h4yapoUkvPn"
      }
    },
    {
      "cell_type": "code",
      "source": [
        "!samtools view -h -S -b -o UxuR_1.bam UxuR_1.sam\n",
        "!samtools view -h -S -b -o UxuR_2.bam UxuR_2.sam\n",
        "!samtools view -h -S -b -o UxuR_control.bam UxuR_control.sam\n"
      ],
      "metadata": {
        "id": "Gc39x-INkf3N"
      },
      "execution_count": null,
      "outputs": []
    },
    {
      "cell_type": "code",
      "source": [
        "!rm -d /content/UxuR_1.sam \n",
        "!rm -d /content/UxuR_2.sam\n",
        "!rm -d /content/UxuR_control.sam\n"
      ],
      "metadata": {
        "id": "FyKpdswTkycf"
      },
      "execution_count": null,
      "outputs": []
    },
    {
      "cell_type": "code",
      "source": [
        "!cp -R /content/drive/MyDrive/bams/UxuR_1.bam /content/\n",
        "!cp -R /content/drive/MyDrive/bams/UxuR_2.bam /content/\n",
        "!cp -R /content/drive/MyDrive/bams/UxuR_control.bam /content/\n"
      ],
      "metadata": {
        "id": "L4p9Ge9a7PKx"
      },
      "execution_count": null,
      "outputs": []
    },
    {
      "cell_type": "markdown",
      "source": [
        "### Peak calling"
      ],
      "metadata": {
        "id": "2H4aMNsDkzGZ"
      }
    },
    {
      "cell_type": "code",
      "source": [
        "!mkdir macs2_1"
      ],
      "metadata": {
        "id": "oaTUsapAktgN"
      },
      "execution_count": null,
      "outputs": []
    },
    {
      "cell_type": "code",
      "source": [
        "!macs2 callpeak -t UxuR_1.bam \\\n",
        "    -c UxuR_control.bam \\\n",
        " \t  -f BAM \\\n",
        "    -g 4.6e+6 \\\n",
        "    --extsize 147 \\\n",
        "    --nomodel \\\n",
        "    --keep-dup=auto \\\n",
        "\t  --outdir macs2_1"
      ],
      "metadata": {
        "id": "mU69Qe49k2FG"
      },
      "execution_count": null,
      "outputs": []
    },
    {
      "cell_type": "code",
      "source": [
        "!mkdir macs2_2"
      ],
      "metadata": {
        "id": "ZiSyn13yrCcP"
      },
      "execution_count": null,
      "outputs": []
    },
    {
      "cell_type": "code",
      "source": [
        "!macs2 callpeak -t UxuR_2.bam \\\n",
        "    -c UxuR_control.bam \\\n",
        " \t  -f BAM \\\n",
        "    -g 4.6e+6 \\\n",
        "    --extsize 147 \\\n",
        "    --nomodel \\\n",
        "    --keep-dup=auto \\\n",
        "\t  --outdir macs2_2"
      ],
      "metadata": {
        "id": "lqKglDkRlInV"
      },
      "execution_count": null,
      "outputs": []
    },
    {
      "cell_type": "code",
      "source": [
        "!wc -l /content/macs2_1/NA_peaks.narrowPeak"
      ],
      "metadata": {
        "id": "hW2JQFPtlUbE",
        "colab": {
          "base_uri": "https://localhost:8080/"
        },
        "outputId": "310833e4-2861-46f5-8456-a313a48e16ec"
      },
      "execution_count": null,
      "outputs": [
        {
          "output_type": "stream",
          "name": "stdout",
          "text": [
            "1589 /content/macs2_1/NA_peaks.narrowPeak\n"
          ]
        }
      ]
    },
    {
      "cell_type": "code",
      "source": [
        "!wc -l /content/macs2_2/NA_peaks.narrowPeak"
      ],
      "metadata": {
        "id": "GxqOUQ7OlWbN",
        "colab": {
          "base_uri": "https://localhost:8080/"
        },
        "outputId": "153fa60e-b4f7-4cfe-b317-1ada3b61a211"
      },
      "execution_count": null,
      "outputs": [
        {
          "output_type": "stream",
          "name": "stdout",
          "text": [
            "210 /content/macs2_2/NA_peaks.narrowPeak\n"
          ]
        }
      ]
    },
    {
      "cell_type": "markdown",
      "source": [
        "Пиков в 1 реплике больше чем во второй, возможно, в эксперименте 1 было больше белка в клетке, напимер увеличена его экспрессия. Или во втором эксперименте проверяли частичный нокаут этого белка"
      ],
      "metadata": {
        "id": "hsBUZSInc79r"
      }
    },
    {
      "cell_type": "markdown",
      "source": [
        "### Игры с аннотацией"
      ],
      "metadata": {
        "id": "w11-soTlBlV-"
      }
    },
    {
      "cell_type": "code",
      "source": [
        "!wget -O annotation.gff.gz https://ftp.ncbi.nlm.nih.gov/genomes/all/GCF/000/005/845/GCF_000005845.2_ASM584v2/GCF_000005845.2_ASM584v2_genomic.gff.gz\n",
        "!gzip -d annotation.gff.gz"
      ],
      "metadata": {
        "id": "Q7AufSkSgKaE"
      },
      "execution_count": null,
      "outputs": []
    },
    {
      "cell_type": "code",
      "source": [
        "!pip install gffpandas\n"
      ],
      "metadata": {
        "id": "snp6OmUjhj7j"
      },
      "execution_count": null,
      "outputs": []
    },
    {
      "cell_type": "code",
      "source": [
        "import gffpandas.gffpandas as gffpd"
      ],
      "metadata": {
        "id": "jhS7mQCJhR3V"
      },
      "execution_count": null,
      "outputs": []
    },
    {
      "cell_type": "code",
      "source": [
        "annotation = gffpd.read_gff3('annotation.gff').df\n",
        "annotation = annotation.loc[annotation['type']=='CDS']\n",
        "annotation.head()"
      ],
      "metadata": {
        "colab": {
          "base_uri": "https://localhost:8080/",
          "height": 0
        },
        "id": "NP-D1PGShyWq",
        "outputId": "864ea7a6-8cb6-43fc-ac66-ef93aec665c5"
      },
      "execution_count": 54,
      "outputs": [
        {
          "output_type": "execute_result",
          "data": {
            "text/plain": [
              "         seq_id  source type  start   end score strand phase  \\\n",
              "2   NC_000913.3  RefSeq  CDS    190   255     .      +     0   \n",
              "4   NC_000913.3  RefSeq  CDS    337  2799     .      +     0   \n",
              "6   NC_000913.3  RefSeq  CDS   2801  3733     .      +     0   \n",
              "8   NC_000913.3  RefSeq  CDS   3734  5020     .      +     0   \n",
              "10  NC_000913.3  RefSeq  CDS   5234  5530     .      +     0   \n",
              "\n",
              "                                           attributes  \n",
              "2   ID=cds-NP_414542.1;Parent=gene-b0001;Dbxref=Un...  \n",
              "4   ID=cds-NP_414543.1;Parent=gene-b0002;Dbxref=Un...  \n",
              "6   ID=cds-NP_414544.1;Parent=gene-b0003;Dbxref=Un...  \n",
              "8   ID=cds-NP_414545.1;Parent=gene-b0004;Dbxref=Un...  \n",
              "10  ID=cds-NP_414546.1;Parent=gene-b0005;Dbxref=Un...  "
            ],
            "text/html": [
              "\n",
              "  <div id=\"df-4d6540ac-94f5-4de7-8ed3-8ab8e9b262d7\">\n",
              "    <div class=\"colab-df-container\">\n",
              "      <div>\n",
              "<style scoped>\n",
              "    .dataframe tbody tr th:only-of-type {\n",
              "        vertical-align: middle;\n",
              "    }\n",
              "\n",
              "    .dataframe tbody tr th {\n",
              "        vertical-align: top;\n",
              "    }\n",
              "\n",
              "    .dataframe thead th {\n",
              "        text-align: right;\n",
              "    }\n",
              "</style>\n",
              "<table border=\"1\" class=\"dataframe\">\n",
              "  <thead>\n",
              "    <tr style=\"text-align: right;\">\n",
              "      <th></th>\n",
              "      <th>seq_id</th>\n",
              "      <th>source</th>\n",
              "      <th>type</th>\n",
              "      <th>start</th>\n",
              "      <th>end</th>\n",
              "      <th>score</th>\n",
              "      <th>strand</th>\n",
              "      <th>phase</th>\n",
              "      <th>attributes</th>\n",
              "    </tr>\n",
              "  </thead>\n",
              "  <tbody>\n",
              "    <tr>\n",
              "      <th>2</th>\n",
              "      <td>NC_000913.3</td>\n",
              "      <td>RefSeq</td>\n",
              "      <td>CDS</td>\n",
              "      <td>190</td>\n",
              "      <td>255</td>\n",
              "      <td>.</td>\n",
              "      <td>+</td>\n",
              "      <td>0</td>\n",
              "      <td>ID=cds-NP_414542.1;Parent=gene-b0001;Dbxref=Un...</td>\n",
              "    </tr>\n",
              "    <tr>\n",
              "      <th>4</th>\n",
              "      <td>NC_000913.3</td>\n",
              "      <td>RefSeq</td>\n",
              "      <td>CDS</td>\n",
              "      <td>337</td>\n",
              "      <td>2799</td>\n",
              "      <td>.</td>\n",
              "      <td>+</td>\n",
              "      <td>0</td>\n",
              "      <td>ID=cds-NP_414543.1;Parent=gene-b0002;Dbxref=Un...</td>\n",
              "    </tr>\n",
              "    <tr>\n",
              "      <th>6</th>\n",
              "      <td>NC_000913.3</td>\n",
              "      <td>RefSeq</td>\n",
              "      <td>CDS</td>\n",
              "      <td>2801</td>\n",
              "      <td>3733</td>\n",
              "      <td>.</td>\n",
              "      <td>+</td>\n",
              "      <td>0</td>\n",
              "      <td>ID=cds-NP_414544.1;Parent=gene-b0003;Dbxref=Un...</td>\n",
              "    </tr>\n",
              "    <tr>\n",
              "      <th>8</th>\n",
              "      <td>NC_000913.3</td>\n",
              "      <td>RefSeq</td>\n",
              "      <td>CDS</td>\n",
              "      <td>3734</td>\n",
              "      <td>5020</td>\n",
              "      <td>.</td>\n",
              "      <td>+</td>\n",
              "      <td>0</td>\n",
              "      <td>ID=cds-NP_414545.1;Parent=gene-b0004;Dbxref=Un...</td>\n",
              "    </tr>\n",
              "    <tr>\n",
              "      <th>10</th>\n",
              "      <td>NC_000913.3</td>\n",
              "      <td>RefSeq</td>\n",
              "      <td>CDS</td>\n",
              "      <td>5234</td>\n",
              "      <td>5530</td>\n",
              "      <td>.</td>\n",
              "      <td>+</td>\n",
              "      <td>0</td>\n",
              "      <td>ID=cds-NP_414546.1;Parent=gene-b0005;Dbxref=Un...</td>\n",
              "    </tr>\n",
              "  </tbody>\n",
              "</table>\n",
              "</div>\n",
              "      <button class=\"colab-df-convert\" onclick=\"convertToInteractive('df-4d6540ac-94f5-4de7-8ed3-8ab8e9b262d7')\"\n",
              "              title=\"Convert this dataframe to an interactive table.\"\n",
              "              style=\"display:none;\">\n",
              "        \n",
              "  <svg xmlns=\"http://www.w3.org/2000/svg\" height=\"24px\"viewBox=\"0 0 24 24\"\n",
              "       width=\"24px\">\n",
              "    <path d=\"M0 0h24v24H0V0z\" fill=\"none\"/>\n",
              "    <path d=\"M18.56 5.44l.94 2.06.94-2.06 2.06-.94-2.06-.94-.94-2.06-.94 2.06-2.06.94zm-11 1L8.5 8.5l.94-2.06 2.06-.94-2.06-.94L8.5 2.5l-.94 2.06-2.06.94zm10 10l.94 2.06.94-2.06 2.06-.94-2.06-.94-.94-2.06-.94 2.06-2.06.94z\"/><path d=\"M17.41 7.96l-1.37-1.37c-.4-.4-.92-.59-1.43-.59-.52 0-1.04.2-1.43.59L10.3 9.45l-7.72 7.72c-.78.78-.78 2.05 0 2.83L4 21.41c.39.39.9.59 1.41.59.51 0 1.02-.2 1.41-.59l7.78-7.78 2.81-2.81c.8-.78.8-2.07 0-2.86zM5.41 20L4 18.59l7.72-7.72 1.47 1.35L5.41 20z\"/>\n",
              "  </svg>\n",
              "      </button>\n",
              "      \n",
              "  <style>\n",
              "    .colab-df-container {\n",
              "      display:flex;\n",
              "      flex-wrap:wrap;\n",
              "      gap: 12px;\n",
              "    }\n",
              "\n",
              "    .colab-df-convert {\n",
              "      background-color: #E8F0FE;\n",
              "      border: none;\n",
              "      border-radius: 50%;\n",
              "      cursor: pointer;\n",
              "      display: none;\n",
              "      fill: #1967D2;\n",
              "      height: 32px;\n",
              "      padding: 0 0 0 0;\n",
              "      width: 32px;\n",
              "    }\n",
              "\n",
              "    .colab-df-convert:hover {\n",
              "      background-color: #E2EBFA;\n",
              "      box-shadow: 0px 1px 2px rgba(60, 64, 67, 0.3), 0px 1px 3px 1px rgba(60, 64, 67, 0.15);\n",
              "      fill: #174EA6;\n",
              "    }\n",
              "\n",
              "    [theme=dark] .colab-df-convert {\n",
              "      background-color: #3B4455;\n",
              "      fill: #D2E3FC;\n",
              "    }\n",
              "\n",
              "    [theme=dark] .colab-df-convert:hover {\n",
              "      background-color: #434B5C;\n",
              "      box-shadow: 0px 1px 3px 1px rgba(0, 0, 0, 0.15);\n",
              "      filter: drop-shadow(0px 1px 2px rgba(0, 0, 0, 0.3));\n",
              "      fill: #FFFFFF;\n",
              "    }\n",
              "  </style>\n",
              "\n",
              "      <script>\n",
              "        const buttonEl =\n",
              "          document.querySelector('#df-4d6540ac-94f5-4de7-8ed3-8ab8e9b262d7 button.colab-df-convert');\n",
              "        buttonEl.style.display =\n",
              "          google.colab.kernel.accessAllowed ? 'block' : 'none';\n",
              "\n",
              "        async function convertToInteractive(key) {\n",
              "          const element = document.querySelector('#df-4d6540ac-94f5-4de7-8ed3-8ab8e9b262d7');\n",
              "          const dataTable =\n",
              "            await google.colab.kernel.invokeFunction('convertToInteractive',\n",
              "                                                     [key], {});\n",
              "          if (!dataTable) return;\n",
              "\n",
              "          const docLinkHtml = 'Like what you see? Visit the ' +\n",
              "            '<a target=\"_blank\" href=https://colab.research.google.com/notebooks/data_table.ipynb>data table notebook</a>'\n",
              "            + ' to learn more about interactive tables.';\n",
              "          element.innerHTML = '';\n",
              "          dataTable['output_type'] = 'display_data';\n",
              "          await google.colab.output.renderOutput(dataTable, element);\n",
              "          const docLink = document.createElement('div');\n",
              "          docLink.innerHTML = docLinkHtml;\n",
              "          element.appendChild(docLink);\n",
              "        }\n",
              "      </script>\n",
              "    </div>\n",
              "  </div>\n",
              "  "
            ]
          },
          "metadata": {},
          "execution_count": 54
        }
      ]
    },
    {
      "cell_type": "code",
      "source": [
        "p = annotation.at[2, 'attributes']\n",
        "p"
      ],
      "metadata": {
        "colab": {
          "base_uri": "https://localhost:8080/",
          "height": 0
        },
        "id": "WDM3Vl_-icO-",
        "outputId": "6acb4dd4-ca5d-4297-c089-58586b980060"
      },
      "execution_count": 55,
      "outputs": [
        {
          "output_type": "execute_result",
          "data": {
            "text/plain": [
              "'ID=cds-NP_414542.1;Parent=gene-b0001;Dbxref=UniProtKB/Swiss-Prot:P0AD86,Genbank:NP_414542.1,ASAP:ABE-0000006,ECOCYC:EG11277,GeneID:944742;Name=NP_414542.1;gbkey=CDS;gene=thrL;locus_tag=b0001;orig_transcript_id=gnl|b0001|mrna.NP_414542;product=thr operon leader peptide;protein_id=NP_414542.1;transl_table=11'"
            ],
            "application/vnd.google.colaboratory.intrinsic+json": {
              "type": "string"
            }
          },
          "metadata": {},
          "execution_count": 55
        }
      ]
    },
    {
      "cell_type": "code",
      "source": [
        "annotation[['a', 'b', 'c', 'd', 'e', 'gene', 'f', 'g', 'product', 'h', 'g', 'e']] = annotation['attributes'].str.split(';', expand=True)\n",
        "annotation.drop(['attributes', 'a', 'b', 'c', 'd', 'e', 'f', 'g', 'h', 'e'], axis=1, inplace=True)\n",
        "annotation.reset_index(drop=True, inplace=True)\n",
        "annotation.drop(['seq_id', 'source', 'type'], axis=1, inplace=True)\n",
        "annotation['chr'] = 'U00096.3'\n",
        "annotation.drop(['phase'], axis = 1, inplace = True)\n",
        "annotation.head()"
      ],
      "metadata": {
        "colab": {
          "base_uri": "https://localhost:8080/",
          "height": 0
        },
        "id": "5CMXLcDTiKty",
        "outputId": "8f42b12d-55ae-4033-a6a0-27ff42b1c6e6"
      },
      "execution_count": 56,
      "outputs": [
        {
          "output_type": "execute_result",
          "data": {
            "text/plain": [
              "   start   end score strand       gene  \\\n",
              "0    190   255     .      +  gene=thrL   \n",
              "1    337  2799     .      +  gene=thrA   \n",
              "2   2801  3733     .      +  gene=thrB   \n",
              "3   3734  5020     .      +  gene=thrC   \n",
              "4   5234  5530     .      +  gene=yaaX   \n",
              "\n",
              "                                             product       chr  \n",
              "0                  product=thr operon leader peptide  U00096.3  \n",
              "1  product=fused aspartate kinase/homoserine dehy...  U00096.3  \n",
              "2                          product=homoserine kinase  U00096.3  \n",
              "3                         product=threonine synthase  U00096.3  \n",
              "4     product=DUF2502 domain-containing protein YaaX  U00096.3  "
            ],
            "text/html": [
              "\n",
              "  <div id=\"df-2c158316-ea38-4bb6-8588-2b197537db49\">\n",
              "    <div class=\"colab-df-container\">\n",
              "      <div>\n",
              "<style scoped>\n",
              "    .dataframe tbody tr th:only-of-type {\n",
              "        vertical-align: middle;\n",
              "    }\n",
              "\n",
              "    .dataframe tbody tr th {\n",
              "        vertical-align: top;\n",
              "    }\n",
              "\n",
              "    .dataframe thead th {\n",
              "        text-align: right;\n",
              "    }\n",
              "</style>\n",
              "<table border=\"1\" class=\"dataframe\">\n",
              "  <thead>\n",
              "    <tr style=\"text-align: right;\">\n",
              "      <th></th>\n",
              "      <th>start</th>\n",
              "      <th>end</th>\n",
              "      <th>score</th>\n",
              "      <th>strand</th>\n",
              "      <th>gene</th>\n",
              "      <th>product</th>\n",
              "      <th>chr</th>\n",
              "    </tr>\n",
              "  </thead>\n",
              "  <tbody>\n",
              "    <tr>\n",
              "      <th>0</th>\n",
              "      <td>190</td>\n",
              "      <td>255</td>\n",
              "      <td>.</td>\n",
              "      <td>+</td>\n",
              "      <td>gene=thrL</td>\n",
              "      <td>product=thr operon leader peptide</td>\n",
              "      <td>U00096.3</td>\n",
              "    </tr>\n",
              "    <tr>\n",
              "      <th>1</th>\n",
              "      <td>337</td>\n",
              "      <td>2799</td>\n",
              "      <td>.</td>\n",
              "      <td>+</td>\n",
              "      <td>gene=thrA</td>\n",
              "      <td>product=fused aspartate kinase/homoserine dehy...</td>\n",
              "      <td>U00096.3</td>\n",
              "    </tr>\n",
              "    <tr>\n",
              "      <th>2</th>\n",
              "      <td>2801</td>\n",
              "      <td>3733</td>\n",
              "      <td>.</td>\n",
              "      <td>+</td>\n",
              "      <td>gene=thrB</td>\n",
              "      <td>product=homoserine kinase</td>\n",
              "      <td>U00096.3</td>\n",
              "    </tr>\n",
              "    <tr>\n",
              "      <th>3</th>\n",
              "      <td>3734</td>\n",
              "      <td>5020</td>\n",
              "      <td>.</td>\n",
              "      <td>+</td>\n",
              "      <td>gene=thrC</td>\n",
              "      <td>product=threonine synthase</td>\n",
              "      <td>U00096.3</td>\n",
              "    </tr>\n",
              "    <tr>\n",
              "      <th>4</th>\n",
              "      <td>5234</td>\n",
              "      <td>5530</td>\n",
              "      <td>.</td>\n",
              "      <td>+</td>\n",
              "      <td>gene=yaaX</td>\n",
              "      <td>product=DUF2502 domain-containing protein YaaX</td>\n",
              "      <td>U00096.3</td>\n",
              "    </tr>\n",
              "  </tbody>\n",
              "</table>\n",
              "</div>\n",
              "      <button class=\"colab-df-convert\" onclick=\"convertToInteractive('df-2c158316-ea38-4bb6-8588-2b197537db49')\"\n",
              "              title=\"Convert this dataframe to an interactive table.\"\n",
              "              style=\"display:none;\">\n",
              "        \n",
              "  <svg xmlns=\"http://www.w3.org/2000/svg\" height=\"24px\"viewBox=\"0 0 24 24\"\n",
              "       width=\"24px\">\n",
              "    <path d=\"M0 0h24v24H0V0z\" fill=\"none\"/>\n",
              "    <path d=\"M18.56 5.44l.94 2.06.94-2.06 2.06-.94-2.06-.94-.94-2.06-.94 2.06-2.06.94zm-11 1L8.5 8.5l.94-2.06 2.06-.94-2.06-.94L8.5 2.5l-.94 2.06-2.06.94zm10 10l.94 2.06.94-2.06 2.06-.94-2.06-.94-.94-2.06-.94 2.06-2.06.94z\"/><path d=\"M17.41 7.96l-1.37-1.37c-.4-.4-.92-.59-1.43-.59-.52 0-1.04.2-1.43.59L10.3 9.45l-7.72 7.72c-.78.78-.78 2.05 0 2.83L4 21.41c.39.39.9.59 1.41.59.51 0 1.02-.2 1.41-.59l7.78-7.78 2.81-2.81c.8-.78.8-2.07 0-2.86zM5.41 20L4 18.59l7.72-7.72 1.47 1.35L5.41 20z\"/>\n",
              "  </svg>\n",
              "      </button>\n",
              "      \n",
              "  <style>\n",
              "    .colab-df-container {\n",
              "      display:flex;\n",
              "      flex-wrap:wrap;\n",
              "      gap: 12px;\n",
              "    }\n",
              "\n",
              "    .colab-df-convert {\n",
              "      background-color: #E8F0FE;\n",
              "      border: none;\n",
              "      border-radius: 50%;\n",
              "      cursor: pointer;\n",
              "      display: none;\n",
              "      fill: #1967D2;\n",
              "      height: 32px;\n",
              "      padding: 0 0 0 0;\n",
              "      width: 32px;\n",
              "    }\n",
              "\n",
              "    .colab-df-convert:hover {\n",
              "      background-color: #E2EBFA;\n",
              "      box-shadow: 0px 1px 2px rgba(60, 64, 67, 0.3), 0px 1px 3px 1px rgba(60, 64, 67, 0.15);\n",
              "      fill: #174EA6;\n",
              "    }\n",
              "\n",
              "    [theme=dark] .colab-df-convert {\n",
              "      background-color: #3B4455;\n",
              "      fill: #D2E3FC;\n",
              "    }\n",
              "\n",
              "    [theme=dark] .colab-df-convert:hover {\n",
              "      background-color: #434B5C;\n",
              "      box-shadow: 0px 1px 3px 1px rgba(0, 0, 0, 0.15);\n",
              "      filter: drop-shadow(0px 1px 2px rgba(0, 0, 0, 0.3));\n",
              "      fill: #FFFFFF;\n",
              "    }\n",
              "  </style>\n",
              "\n",
              "      <script>\n",
              "        const buttonEl =\n",
              "          document.querySelector('#df-2c158316-ea38-4bb6-8588-2b197537db49 button.colab-df-convert');\n",
              "        buttonEl.style.display =\n",
              "          google.colab.kernel.accessAllowed ? 'block' : 'none';\n",
              "\n",
              "        async function convertToInteractive(key) {\n",
              "          const element = document.querySelector('#df-2c158316-ea38-4bb6-8588-2b197537db49');\n",
              "          const dataTable =\n",
              "            await google.colab.kernel.invokeFunction('convertToInteractive',\n",
              "                                                     [key], {});\n",
              "          if (!dataTable) return;\n",
              "\n",
              "          const docLinkHtml = 'Like what you see? Visit the ' +\n",
              "            '<a target=\"_blank\" href=https://colab.research.google.com/notebooks/data_table.ipynb>data table notebook</a>'\n",
              "            + ' to learn more about interactive tables.';\n",
              "          element.innerHTML = '';\n",
              "          dataTable['output_type'] = 'display_data';\n",
              "          await google.colab.output.renderOutput(dataTable, element);\n",
              "          const docLink = document.createElement('div');\n",
              "          docLink.innerHTML = docLinkHtml;\n",
              "          element.appendChild(docLink);\n",
              "        }\n",
              "      </script>\n",
              "    </div>\n",
              "  </div>\n",
              "  "
            ]
          },
          "metadata": {},
          "execution_count": 56
        }
      ]
    },
    {
      "cell_type": "code",
      "source": [
        "ann = annotation.reindex(columns=['chr','start','end','strand','gene','product'])\n",
        "ann['strand'] = '.'\n",
        "ann.head()"
      ],
      "metadata": {
        "colab": {
          "base_uri": "https://localhost:8080/",
          "height": 0
        },
        "id": "B3NtWWtPgmnc",
        "outputId": "d16d0014-8438-4888-938b-e2ac81f72914"
      },
      "execution_count": 57,
      "outputs": [
        {
          "output_type": "execute_result",
          "data": {
            "text/plain": [
              "        chr  start   end strand       gene  \\\n",
              "0  U00096.3    190   255      .  gene=thrL   \n",
              "1  U00096.3    337  2799      .  gene=thrA   \n",
              "2  U00096.3   2801  3733      .  gene=thrB   \n",
              "3  U00096.3   3734  5020      .  gene=thrC   \n",
              "4  U00096.3   5234  5530      .  gene=yaaX   \n",
              "\n",
              "                                             product  \n",
              "0                  product=thr operon leader peptide  \n",
              "1  product=fused aspartate kinase/homoserine dehy...  \n",
              "2                          product=homoserine kinase  \n",
              "3                         product=threonine synthase  \n",
              "4     product=DUF2502 domain-containing protein YaaX  "
            ],
            "text/html": [
              "\n",
              "  <div id=\"df-5f728e91-6e96-4c41-ad77-c7978c0e9cd1\">\n",
              "    <div class=\"colab-df-container\">\n",
              "      <div>\n",
              "<style scoped>\n",
              "    .dataframe tbody tr th:only-of-type {\n",
              "        vertical-align: middle;\n",
              "    }\n",
              "\n",
              "    .dataframe tbody tr th {\n",
              "        vertical-align: top;\n",
              "    }\n",
              "\n",
              "    .dataframe thead th {\n",
              "        text-align: right;\n",
              "    }\n",
              "</style>\n",
              "<table border=\"1\" class=\"dataframe\">\n",
              "  <thead>\n",
              "    <tr style=\"text-align: right;\">\n",
              "      <th></th>\n",
              "      <th>chr</th>\n",
              "      <th>start</th>\n",
              "      <th>end</th>\n",
              "      <th>strand</th>\n",
              "      <th>gene</th>\n",
              "      <th>product</th>\n",
              "    </tr>\n",
              "  </thead>\n",
              "  <tbody>\n",
              "    <tr>\n",
              "      <th>0</th>\n",
              "      <td>U00096.3</td>\n",
              "      <td>190</td>\n",
              "      <td>255</td>\n",
              "      <td>.</td>\n",
              "      <td>gene=thrL</td>\n",
              "      <td>product=thr operon leader peptide</td>\n",
              "    </tr>\n",
              "    <tr>\n",
              "      <th>1</th>\n",
              "      <td>U00096.3</td>\n",
              "      <td>337</td>\n",
              "      <td>2799</td>\n",
              "      <td>.</td>\n",
              "      <td>gene=thrA</td>\n",
              "      <td>product=fused aspartate kinase/homoserine dehy...</td>\n",
              "    </tr>\n",
              "    <tr>\n",
              "      <th>2</th>\n",
              "      <td>U00096.3</td>\n",
              "      <td>2801</td>\n",
              "      <td>3733</td>\n",
              "      <td>.</td>\n",
              "      <td>gene=thrB</td>\n",
              "      <td>product=homoserine kinase</td>\n",
              "    </tr>\n",
              "    <tr>\n",
              "      <th>3</th>\n",
              "      <td>U00096.3</td>\n",
              "      <td>3734</td>\n",
              "      <td>5020</td>\n",
              "      <td>.</td>\n",
              "      <td>gene=thrC</td>\n",
              "      <td>product=threonine synthase</td>\n",
              "    </tr>\n",
              "    <tr>\n",
              "      <th>4</th>\n",
              "      <td>U00096.3</td>\n",
              "      <td>5234</td>\n",
              "      <td>5530</td>\n",
              "      <td>.</td>\n",
              "      <td>gene=yaaX</td>\n",
              "      <td>product=DUF2502 domain-containing protein YaaX</td>\n",
              "    </tr>\n",
              "  </tbody>\n",
              "</table>\n",
              "</div>\n",
              "      <button class=\"colab-df-convert\" onclick=\"convertToInteractive('df-5f728e91-6e96-4c41-ad77-c7978c0e9cd1')\"\n",
              "              title=\"Convert this dataframe to an interactive table.\"\n",
              "              style=\"display:none;\">\n",
              "        \n",
              "  <svg xmlns=\"http://www.w3.org/2000/svg\" height=\"24px\"viewBox=\"0 0 24 24\"\n",
              "       width=\"24px\">\n",
              "    <path d=\"M0 0h24v24H0V0z\" fill=\"none\"/>\n",
              "    <path d=\"M18.56 5.44l.94 2.06.94-2.06 2.06-.94-2.06-.94-.94-2.06-.94 2.06-2.06.94zm-11 1L8.5 8.5l.94-2.06 2.06-.94-2.06-.94L8.5 2.5l-.94 2.06-2.06.94zm10 10l.94 2.06.94-2.06 2.06-.94-2.06-.94-.94-2.06-.94 2.06-2.06.94z\"/><path d=\"M17.41 7.96l-1.37-1.37c-.4-.4-.92-.59-1.43-.59-.52 0-1.04.2-1.43.59L10.3 9.45l-7.72 7.72c-.78.78-.78 2.05 0 2.83L4 21.41c.39.39.9.59 1.41.59.51 0 1.02-.2 1.41-.59l7.78-7.78 2.81-2.81c.8-.78.8-2.07 0-2.86zM5.41 20L4 18.59l7.72-7.72 1.47 1.35L5.41 20z\"/>\n",
              "  </svg>\n",
              "      </button>\n",
              "      \n",
              "  <style>\n",
              "    .colab-df-container {\n",
              "      display:flex;\n",
              "      flex-wrap:wrap;\n",
              "      gap: 12px;\n",
              "    }\n",
              "\n",
              "    .colab-df-convert {\n",
              "      background-color: #E8F0FE;\n",
              "      border: none;\n",
              "      border-radius: 50%;\n",
              "      cursor: pointer;\n",
              "      display: none;\n",
              "      fill: #1967D2;\n",
              "      height: 32px;\n",
              "      padding: 0 0 0 0;\n",
              "      width: 32px;\n",
              "    }\n",
              "\n",
              "    .colab-df-convert:hover {\n",
              "      background-color: #E2EBFA;\n",
              "      box-shadow: 0px 1px 2px rgba(60, 64, 67, 0.3), 0px 1px 3px 1px rgba(60, 64, 67, 0.15);\n",
              "      fill: #174EA6;\n",
              "    }\n",
              "\n",
              "    [theme=dark] .colab-df-convert {\n",
              "      background-color: #3B4455;\n",
              "      fill: #D2E3FC;\n",
              "    }\n",
              "\n",
              "    [theme=dark] .colab-df-convert:hover {\n",
              "      background-color: #434B5C;\n",
              "      box-shadow: 0px 1px 3px 1px rgba(0, 0, 0, 0.15);\n",
              "      filter: drop-shadow(0px 1px 2px rgba(0, 0, 0, 0.3));\n",
              "      fill: #FFFFFF;\n",
              "    }\n",
              "  </style>\n",
              "\n",
              "      <script>\n",
              "        const buttonEl =\n",
              "          document.querySelector('#df-5f728e91-6e96-4c41-ad77-c7978c0e9cd1 button.colab-df-convert');\n",
              "        buttonEl.style.display =\n",
              "          google.colab.kernel.accessAllowed ? 'block' : 'none';\n",
              "\n",
              "        async function convertToInteractive(key) {\n",
              "          const element = document.querySelector('#df-5f728e91-6e96-4c41-ad77-c7978c0e9cd1');\n",
              "          const dataTable =\n",
              "            await google.colab.kernel.invokeFunction('convertToInteractive',\n",
              "                                                     [key], {});\n",
              "          if (!dataTable) return;\n",
              "\n",
              "          const docLinkHtml = 'Like what you see? Visit the ' +\n",
              "            '<a target=\"_blank\" href=https://colab.research.google.com/notebooks/data_table.ipynb>data table notebook</a>'\n",
              "            + ' to learn more about interactive tables.';\n",
              "          element.innerHTML = '';\n",
              "          dataTable['output_type'] = 'display_data';\n",
              "          await google.colab.output.renderOutput(dataTable, element);\n",
              "          const docLink = document.createElement('div');\n",
              "          docLink.innerHTML = docLinkHtml;\n",
              "          element.appendChild(docLink);\n",
              "        }\n",
              "      </script>\n",
              "    </div>\n",
              "  </div>\n",
              "  "
            ]
          },
          "metadata": {},
          "execution_count": 57
        }
      ]
    },
    {
      "cell_type": "code",
      "source": [
        "ann.sort_values('start', axis = 0, inplace = True)"
      ],
      "metadata": {
        "id": "Pj9vmTRGh3G9"
      },
      "execution_count": 46,
      "outputs": []
    },
    {
      "cell_type": "code",
      "source": [
        "ann.to_csv('annotation_sorted.bed', sep='\\t', header = False, index = False)"
      ],
      "metadata": {
        "id": "F21uIV7GnPXo"
      },
      "execution_count": 47,
      "outputs": []
    },
    {
      "cell_type": "code",
      "source": [
        "import pandas as pd\n"
      ],
      "metadata": {
        "id": "JeDquNsKkPZf"
      },
      "execution_count": 25,
      "outputs": []
    },
    {
      "cell_type": "markdown",
      "source": [
        "### Табличка с генами"
      ],
      "metadata": {
        "id": "1G0xlFyuBqRX"
      }
    },
    {
      "cell_type": "code",
      "source": [
        "!apt-get install bedops"
      ],
      "metadata": {
        "id": "2rpMNNbGeqaF"
      },
      "execution_count": null,
      "outputs": []
    },
    {
      "cell_type": "code",
      "source": [
        "!sortBed -i /content/macs2_1/NA_peaks.narrowPeak >peaks_UxuR1_sorted.narrowPeak\n",
        "!sortBed -i /content/macs2_2/NA_peaks.narrowPeak >peaks_UxuR2_sorted.narrowPeak"
      ],
      "metadata": {
        "id": "kWtE3TISZC1I"
      },
      "execution_count": 9,
      "outputs": []
    },
    {
      "cell_type": "code",
      "source": [
        "!bedtools closest -a peaks_UxuR1_sorted.narrowPeak -b /content/annotation_sorted.bed > annotated_peaks_UxuR_1.bed"
      ],
      "metadata": {
        "id": "1s7XkrCtg0Bh"
      },
      "execution_count": 51,
      "outputs": []
    },
    {
      "cell_type": "code",
      "source": [
        "!bedtools closest -a peaks_UxuR2_sorted.narrowPeak -b /content/annotation_sorted.bed > annotated_peaks_UxuR_2.bed"
      ],
      "metadata": {
        "id": "ajrZLMSrhRCY"
      },
      "execution_count": 50,
      "outputs": []
    },
    {
      "cell_type": "code",
      "source": [
        "colnames = ['chr','start','end', 'name', 'score', 'strand','signalValue ','pValue ', 'qValue', 'peak', 'ann_chr','ann_start','ann_end','ann_strand','gene','product' ]\n",
        "ann_peaks_UxuR1 = pd.read_csv('annotated_peaks_UxuR_1.bed', sep ='\\t', names = colnames)\n",
        "ann_peaks_UxuR1.drop(['score', 'strand', 'ann_chr', 'ann_strand'], axis = 1, inplace = True)\n",
        "ann_peaks_UxuR1.head()"
      ],
      "metadata": {
        "colab": {
          "base_uri": "https://localhost:8080/",
          "height": 0
        },
        "id": "KS0JxzyCjmA4",
        "outputId": "5000ac25-8bae-484c-bd9d-c268494161bf"
      },
      "execution_count": 62,
      "outputs": [
        {
          "output_type": "execute_result",
          "data": {
            "text/plain": [
              "        chr  start   end       name  signalValue    pValue     qValue  peak  \\\n",
              "0  U00096.3    842  1055  NA_peak_1       1.31492  11.91800   9.66208    63   \n",
              "1  U00096.3   3335  3631  NA_peak_2       1.31606  12.44780  10.15200   171   \n",
              "2  U00096.3   4350  4677  NA_peak_3       1.22248   7.30397   5.53832   207   \n",
              "3  U00096.3   6196  6358  NA_peak_4       1.19960   5.23834   3.78789    71   \n",
              "4  U00096.3   9468  9744  NA_peak_5       1.21080   6.71305   5.03398   104   \n",
              "\n",
              "   ann_start  ann_end       gene  \\\n",
              "0        337     2799  gene=thrA   \n",
              "1       2801     3733  gene=thrB   \n",
              "2       3734     5020  gene=thrC   \n",
              "3       5683     6459  gene=yaaA   \n",
              "4       9306     9893   gene=mog   \n",
              "\n",
              "                                             product  \n",
              "0  product=fused aspartate kinase/homoserine dehy...  \n",
              "1                          product=homoserine kinase  \n",
              "2                         product=threonine synthase  \n",
              "3  product=DNA binding and peroxide stress respon...  \n",
              "4          product=molybdopterin adenylyltransferase  "
            ],
            "text/html": [
              "\n",
              "  <div id=\"df-3aaabcd0-fc9c-4adf-a28e-5bbe859073fe\">\n",
              "    <div class=\"colab-df-container\">\n",
              "      <div>\n",
              "<style scoped>\n",
              "    .dataframe tbody tr th:only-of-type {\n",
              "        vertical-align: middle;\n",
              "    }\n",
              "\n",
              "    .dataframe tbody tr th {\n",
              "        vertical-align: top;\n",
              "    }\n",
              "\n",
              "    .dataframe thead th {\n",
              "        text-align: right;\n",
              "    }\n",
              "</style>\n",
              "<table border=\"1\" class=\"dataframe\">\n",
              "  <thead>\n",
              "    <tr style=\"text-align: right;\">\n",
              "      <th></th>\n",
              "      <th>chr</th>\n",
              "      <th>start</th>\n",
              "      <th>end</th>\n",
              "      <th>name</th>\n",
              "      <th>signalValue</th>\n",
              "      <th>pValue</th>\n",
              "      <th>qValue</th>\n",
              "      <th>peak</th>\n",
              "      <th>ann_start</th>\n",
              "      <th>ann_end</th>\n",
              "      <th>gene</th>\n",
              "      <th>product</th>\n",
              "    </tr>\n",
              "  </thead>\n",
              "  <tbody>\n",
              "    <tr>\n",
              "      <th>0</th>\n",
              "      <td>U00096.3</td>\n",
              "      <td>842</td>\n",
              "      <td>1055</td>\n",
              "      <td>NA_peak_1</td>\n",
              "      <td>1.31492</td>\n",
              "      <td>11.91800</td>\n",
              "      <td>9.66208</td>\n",
              "      <td>63</td>\n",
              "      <td>337</td>\n",
              "      <td>2799</td>\n",
              "      <td>gene=thrA</td>\n",
              "      <td>product=fused aspartate kinase/homoserine dehy...</td>\n",
              "    </tr>\n",
              "    <tr>\n",
              "      <th>1</th>\n",
              "      <td>U00096.3</td>\n",
              "      <td>3335</td>\n",
              "      <td>3631</td>\n",
              "      <td>NA_peak_2</td>\n",
              "      <td>1.31606</td>\n",
              "      <td>12.44780</td>\n",
              "      <td>10.15200</td>\n",
              "      <td>171</td>\n",
              "      <td>2801</td>\n",
              "      <td>3733</td>\n",
              "      <td>gene=thrB</td>\n",
              "      <td>product=homoserine kinase</td>\n",
              "    </tr>\n",
              "    <tr>\n",
              "      <th>2</th>\n",
              "      <td>U00096.3</td>\n",
              "      <td>4350</td>\n",
              "      <td>4677</td>\n",
              "      <td>NA_peak_3</td>\n",
              "      <td>1.22248</td>\n",
              "      <td>7.30397</td>\n",
              "      <td>5.53832</td>\n",
              "      <td>207</td>\n",
              "      <td>3734</td>\n",
              "      <td>5020</td>\n",
              "      <td>gene=thrC</td>\n",
              "      <td>product=threonine synthase</td>\n",
              "    </tr>\n",
              "    <tr>\n",
              "      <th>3</th>\n",
              "      <td>U00096.3</td>\n",
              "      <td>6196</td>\n",
              "      <td>6358</td>\n",
              "      <td>NA_peak_4</td>\n",
              "      <td>1.19960</td>\n",
              "      <td>5.23834</td>\n",
              "      <td>3.78789</td>\n",
              "      <td>71</td>\n",
              "      <td>5683</td>\n",
              "      <td>6459</td>\n",
              "      <td>gene=yaaA</td>\n",
              "      <td>product=DNA binding and peroxide stress respon...</td>\n",
              "    </tr>\n",
              "    <tr>\n",
              "      <th>4</th>\n",
              "      <td>U00096.3</td>\n",
              "      <td>9468</td>\n",
              "      <td>9744</td>\n",
              "      <td>NA_peak_5</td>\n",
              "      <td>1.21080</td>\n",
              "      <td>6.71305</td>\n",
              "      <td>5.03398</td>\n",
              "      <td>104</td>\n",
              "      <td>9306</td>\n",
              "      <td>9893</td>\n",
              "      <td>gene=mog</td>\n",
              "      <td>product=molybdopterin adenylyltransferase</td>\n",
              "    </tr>\n",
              "  </tbody>\n",
              "</table>\n",
              "</div>\n",
              "      <button class=\"colab-df-convert\" onclick=\"convertToInteractive('df-3aaabcd0-fc9c-4adf-a28e-5bbe859073fe')\"\n",
              "              title=\"Convert this dataframe to an interactive table.\"\n",
              "              style=\"display:none;\">\n",
              "        \n",
              "  <svg xmlns=\"http://www.w3.org/2000/svg\" height=\"24px\"viewBox=\"0 0 24 24\"\n",
              "       width=\"24px\">\n",
              "    <path d=\"M0 0h24v24H0V0z\" fill=\"none\"/>\n",
              "    <path d=\"M18.56 5.44l.94 2.06.94-2.06 2.06-.94-2.06-.94-.94-2.06-.94 2.06-2.06.94zm-11 1L8.5 8.5l.94-2.06 2.06-.94-2.06-.94L8.5 2.5l-.94 2.06-2.06.94zm10 10l.94 2.06.94-2.06 2.06-.94-2.06-.94-.94-2.06-.94 2.06-2.06.94z\"/><path d=\"M17.41 7.96l-1.37-1.37c-.4-.4-.92-.59-1.43-.59-.52 0-1.04.2-1.43.59L10.3 9.45l-7.72 7.72c-.78.78-.78 2.05 0 2.83L4 21.41c.39.39.9.59 1.41.59.51 0 1.02-.2 1.41-.59l7.78-7.78 2.81-2.81c.8-.78.8-2.07 0-2.86zM5.41 20L4 18.59l7.72-7.72 1.47 1.35L5.41 20z\"/>\n",
              "  </svg>\n",
              "      </button>\n",
              "      \n",
              "  <style>\n",
              "    .colab-df-container {\n",
              "      display:flex;\n",
              "      flex-wrap:wrap;\n",
              "      gap: 12px;\n",
              "    }\n",
              "\n",
              "    .colab-df-convert {\n",
              "      background-color: #E8F0FE;\n",
              "      border: none;\n",
              "      border-radius: 50%;\n",
              "      cursor: pointer;\n",
              "      display: none;\n",
              "      fill: #1967D2;\n",
              "      height: 32px;\n",
              "      padding: 0 0 0 0;\n",
              "      width: 32px;\n",
              "    }\n",
              "\n",
              "    .colab-df-convert:hover {\n",
              "      background-color: #E2EBFA;\n",
              "      box-shadow: 0px 1px 2px rgba(60, 64, 67, 0.3), 0px 1px 3px 1px rgba(60, 64, 67, 0.15);\n",
              "      fill: #174EA6;\n",
              "    }\n",
              "\n",
              "    [theme=dark] .colab-df-convert {\n",
              "      background-color: #3B4455;\n",
              "      fill: #D2E3FC;\n",
              "    }\n",
              "\n",
              "    [theme=dark] .colab-df-convert:hover {\n",
              "      background-color: #434B5C;\n",
              "      box-shadow: 0px 1px 3px 1px rgba(0, 0, 0, 0.15);\n",
              "      filter: drop-shadow(0px 1px 2px rgba(0, 0, 0, 0.3));\n",
              "      fill: #FFFFFF;\n",
              "    }\n",
              "  </style>\n",
              "\n",
              "      <script>\n",
              "        const buttonEl =\n",
              "          document.querySelector('#df-3aaabcd0-fc9c-4adf-a28e-5bbe859073fe button.colab-df-convert');\n",
              "        buttonEl.style.display =\n",
              "          google.colab.kernel.accessAllowed ? 'block' : 'none';\n",
              "\n",
              "        async function convertToInteractive(key) {\n",
              "          const element = document.querySelector('#df-3aaabcd0-fc9c-4adf-a28e-5bbe859073fe');\n",
              "          const dataTable =\n",
              "            await google.colab.kernel.invokeFunction('convertToInteractive',\n",
              "                                                     [key], {});\n",
              "          if (!dataTable) return;\n",
              "\n",
              "          const docLinkHtml = 'Like what you see? Visit the ' +\n",
              "            '<a target=\"_blank\" href=https://colab.research.google.com/notebooks/data_table.ipynb>data table notebook</a>'\n",
              "            + ' to learn more about interactive tables.';\n",
              "          element.innerHTML = '';\n",
              "          dataTable['output_type'] = 'display_data';\n",
              "          await google.colab.output.renderOutput(dataTable, element);\n",
              "          const docLink = document.createElement('div');\n",
              "          docLink.innerHTML = docLinkHtml;\n",
              "          element.appendChild(docLink);\n",
              "        }\n",
              "      </script>\n",
              "    </div>\n",
              "  </div>\n",
              "  "
            ]
          },
          "metadata": {},
          "execution_count": 62
        }
      ]
    },
    {
      "cell_type": "code",
      "source": [
        "ann_peaks_UxuR2 = pd.read_csv('annotated_peaks_UxuR_2.bed', sep ='\\t', names = colnames)\n",
        "ann_peaks_UxuR2.drop(['score', 'strand', 'ann_chr', 'ann_strand'], axis = 1, inplace = True)\n",
        "ann_peaks_UxuR2.head()"
      ],
      "metadata": {
        "colab": {
          "base_uri": "https://localhost:8080/",
          "height": 0
        },
        "id": "UNl8QB3LrQqv",
        "outputId": "bc80642a-825f-4487-8bd1-8f59033df6f6"
      },
      "execution_count": 63,
      "outputs": [
        {
          "output_type": "execute_result",
          "data": {
            "text/plain": [
              "        chr  start    end       name  signalValue    pValue     qValue  peak  \\\n",
              "0  U00096.3    142    380  NA_peak_1       1.34428  12.54220  10.13800   111   \n",
              "1  U00096.3    142    380  NA_peak_1       1.34428  12.54220  10.13800   111   \n",
              "2  U00096.3   1876   2126  NA_peak_2       1.26976   8.65797   6.51969    48   \n",
              "3  U00096.3   6549   6732  NA_peak_3       1.25144   7.76811   5.69759    45   \n",
              "4  U00096.3  31867  32026  NA_peak_4       1.20748   6.26589   4.31204   118   \n",
              "\n",
              "   ann_start  ann_end       gene  \\\n",
              "0        190      255  gene=thrL   \n",
              "1        337     2799  gene=thrA   \n",
              "2        337     2799  gene=thrA   \n",
              "3       6529     7959  gene=yaaJ   \n",
              "4      30817    34038  gene=carB   \n",
              "\n",
              "                                             product  \n",
              "0                  product=thr operon leader peptide  \n",
              "1  product=fused aspartate kinase/homoserine dehy...  \n",
              "2  product=fused aspartate kinase/homoserine dehy...  \n",
              "3                  product=putative transporter YaaJ  \n",
              "4  product=carbamoyl-phosphate synthetase large s...  "
            ],
            "text/html": [
              "\n",
              "  <div id=\"df-89f72d40-4777-4b81-bbf6-36bf4a681129\">\n",
              "    <div class=\"colab-df-container\">\n",
              "      <div>\n",
              "<style scoped>\n",
              "    .dataframe tbody tr th:only-of-type {\n",
              "        vertical-align: middle;\n",
              "    }\n",
              "\n",
              "    .dataframe tbody tr th {\n",
              "        vertical-align: top;\n",
              "    }\n",
              "\n",
              "    .dataframe thead th {\n",
              "        text-align: right;\n",
              "    }\n",
              "</style>\n",
              "<table border=\"1\" class=\"dataframe\">\n",
              "  <thead>\n",
              "    <tr style=\"text-align: right;\">\n",
              "      <th></th>\n",
              "      <th>chr</th>\n",
              "      <th>start</th>\n",
              "      <th>end</th>\n",
              "      <th>name</th>\n",
              "      <th>signalValue</th>\n",
              "      <th>pValue</th>\n",
              "      <th>qValue</th>\n",
              "      <th>peak</th>\n",
              "      <th>ann_start</th>\n",
              "      <th>ann_end</th>\n",
              "      <th>gene</th>\n",
              "      <th>product</th>\n",
              "    </tr>\n",
              "  </thead>\n",
              "  <tbody>\n",
              "    <tr>\n",
              "      <th>0</th>\n",
              "      <td>U00096.3</td>\n",
              "      <td>142</td>\n",
              "      <td>380</td>\n",
              "      <td>NA_peak_1</td>\n",
              "      <td>1.34428</td>\n",
              "      <td>12.54220</td>\n",
              "      <td>10.13800</td>\n",
              "      <td>111</td>\n",
              "      <td>190</td>\n",
              "      <td>255</td>\n",
              "      <td>gene=thrL</td>\n",
              "      <td>product=thr operon leader peptide</td>\n",
              "    </tr>\n",
              "    <tr>\n",
              "      <th>1</th>\n",
              "      <td>U00096.3</td>\n",
              "      <td>142</td>\n",
              "      <td>380</td>\n",
              "      <td>NA_peak_1</td>\n",
              "      <td>1.34428</td>\n",
              "      <td>12.54220</td>\n",
              "      <td>10.13800</td>\n",
              "      <td>111</td>\n",
              "      <td>337</td>\n",
              "      <td>2799</td>\n",
              "      <td>gene=thrA</td>\n",
              "      <td>product=fused aspartate kinase/homoserine dehy...</td>\n",
              "    </tr>\n",
              "    <tr>\n",
              "      <th>2</th>\n",
              "      <td>U00096.3</td>\n",
              "      <td>1876</td>\n",
              "      <td>2126</td>\n",
              "      <td>NA_peak_2</td>\n",
              "      <td>1.26976</td>\n",
              "      <td>8.65797</td>\n",
              "      <td>6.51969</td>\n",
              "      <td>48</td>\n",
              "      <td>337</td>\n",
              "      <td>2799</td>\n",
              "      <td>gene=thrA</td>\n",
              "      <td>product=fused aspartate kinase/homoserine dehy...</td>\n",
              "    </tr>\n",
              "    <tr>\n",
              "      <th>3</th>\n",
              "      <td>U00096.3</td>\n",
              "      <td>6549</td>\n",
              "      <td>6732</td>\n",
              "      <td>NA_peak_3</td>\n",
              "      <td>1.25144</td>\n",
              "      <td>7.76811</td>\n",
              "      <td>5.69759</td>\n",
              "      <td>45</td>\n",
              "      <td>6529</td>\n",
              "      <td>7959</td>\n",
              "      <td>gene=yaaJ</td>\n",
              "      <td>product=putative transporter YaaJ</td>\n",
              "    </tr>\n",
              "    <tr>\n",
              "      <th>4</th>\n",
              "      <td>U00096.3</td>\n",
              "      <td>31867</td>\n",
              "      <td>32026</td>\n",
              "      <td>NA_peak_4</td>\n",
              "      <td>1.20748</td>\n",
              "      <td>6.26589</td>\n",
              "      <td>4.31204</td>\n",
              "      <td>118</td>\n",
              "      <td>30817</td>\n",
              "      <td>34038</td>\n",
              "      <td>gene=carB</td>\n",
              "      <td>product=carbamoyl-phosphate synthetase large s...</td>\n",
              "    </tr>\n",
              "  </tbody>\n",
              "</table>\n",
              "</div>\n",
              "      <button class=\"colab-df-convert\" onclick=\"convertToInteractive('df-89f72d40-4777-4b81-bbf6-36bf4a681129')\"\n",
              "              title=\"Convert this dataframe to an interactive table.\"\n",
              "              style=\"display:none;\">\n",
              "        \n",
              "  <svg xmlns=\"http://www.w3.org/2000/svg\" height=\"24px\"viewBox=\"0 0 24 24\"\n",
              "       width=\"24px\">\n",
              "    <path d=\"M0 0h24v24H0V0z\" fill=\"none\"/>\n",
              "    <path d=\"M18.56 5.44l.94 2.06.94-2.06 2.06-.94-2.06-.94-.94-2.06-.94 2.06-2.06.94zm-11 1L8.5 8.5l.94-2.06 2.06-.94-2.06-.94L8.5 2.5l-.94 2.06-2.06.94zm10 10l.94 2.06.94-2.06 2.06-.94-2.06-.94-.94-2.06-.94 2.06-2.06.94z\"/><path d=\"M17.41 7.96l-1.37-1.37c-.4-.4-.92-.59-1.43-.59-.52 0-1.04.2-1.43.59L10.3 9.45l-7.72 7.72c-.78.78-.78 2.05 0 2.83L4 21.41c.39.39.9.59 1.41.59.51 0 1.02-.2 1.41-.59l7.78-7.78 2.81-2.81c.8-.78.8-2.07 0-2.86zM5.41 20L4 18.59l7.72-7.72 1.47 1.35L5.41 20z\"/>\n",
              "  </svg>\n",
              "      </button>\n",
              "      \n",
              "  <style>\n",
              "    .colab-df-container {\n",
              "      display:flex;\n",
              "      flex-wrap:wrap;\n",
              "      gap: 12px;\n",
              "    }\n",
              "\n",
              "    .colab-df-convert {\n",
              "      background-color: #E8F0FE;\n",
              "      border: none;\n",
              "      border-radius: 50%;\n",
              "      cursor: pointer;\n",
              "      display: none;\n",
              "      fill: #1967D2;\n",
              "      height: 32px;\n",
              "      padding: 0 0 0 0;\n",
              "      width: 32px;\n",
              "    }\n",
              "\n",
              "    .colab-df-convert:hover {\n",
              "      background-color: #E2EBFA;\n",
              "      box-shadow: 0px 1px 2px rgba(60, 64, 67, 0.3), 0px 1px 3px 1px rgba(60, 64, 67, 0.15);\n",
              "      fill: #174EA6;\n",
              "    }\n",
              "\n",
              "    [theme=dark] .colab-df-convert {\n",
              "      background-color: #3B4455;\n",
              "      fill: #D2E3FC;\n",
              "    }\n",
              "\n",
              "    [theme=dark] .colab-df-convert:hover {\n",
              "      background-color: #434B5C;\n",
              "      box-shadow: 0px 1px 3px 1px rgba(0, 0, 0, 0.15);\n",
              "      filter: drop-shadow(0px 1px 2px rgba(0, 0, 0, 0.3));\n",
              "      fill: #FFFFFF;\n",
              "    }\n",
              "  </style>\n",
              "\n",
              "      <script>\n",
              "        const buttonEl =\n",
              "          document.querySelector('#df-89f72d40-4777-4b81-bbf6-36bf4a681129 button.colab-df-convert');\n",
              "        buttonEl.style.display =\n",
              "          google.colab.kernel.accessAllowed ? 'block' : 'none';\n",
              "\n",
              "        async function convertToInteractive(key) {\n",
              "          const element = document.querySelector('#df-89f72d40-4777-4b81-bbf6-36bf4a681129');\n",
              "          const dataTable =\n",
              "            await google.colab.kernel.invokeFunction('convertToInteractive',\n",
              "                                                     [key], {});\n",
              "          if (!dataTable) return;\n",
              "\n",
              "          const docLinkHtml = 'Like what you see? Visit the ' +\n",
              "            '<a target=\"_blank\" href=https://colab.research.google.com/notebooks/data_table.ipynb>data table notebook</a>'\n",
              "            + ' to learn more about interactive tables.';\n",
              "          element.innerHTML = '';\n",
              "          dataTable['output_type'] = 'display_data';\n",
              "          await google.colab.output.renderOutput(dataTable, element);\n",
              "          const docLink = document.createElement('div');\n",
              "          docLink.innerHTML = docLinkHtml;\n",
              "          element.appendChild(docLink);\n",
              "        }\n",
              "      </script>\n",
              "    </div>\n",
              "  </div>\n",
              "  "
            ]
          },
          "metadata": {},
          "execution_count": 63
        }
      ]
    },
    {
      "cell_type": "code",
      "source": [
        "ann_peaks_UxuR1.to_csv('ann_peaks_UxuR1.csv', sep=',', header = True, index = False)\n",
        "ann_peaks_UxuR2.to_csv('ann_peaks_UxuR2.csv', sep=',', header = True, index = False)"
      ],
      "metadata": {
        "id": "VFLExGDHsFmm"
      },
      "execution_count": 64,
      "outputs": []
    },
    {
      "cell_type": "markdown",
      "source": [
        "###На основании найденных пиков предположите, какие функции могут выполнять белки UxuR   \n",
        "Судя по таблицам, пики находятся у совершенно различных генов, выполняющих разные функции. Сложно их объединить в одну группу. Также можно заметить, что пики расположены у начала/конца кодирующих областей генома, соответствующих генам. Видимо, белок UxuR является регуляторным. Возможно, ДНК-связывающим регулятором транскрипции. "
      ],
      "metadata": {
        "id": "O6AlVkgf1_nz"
      }
    },
    {
      "cell_type": "markdown",
      "source": [
        "### Используя ChIPMunk, найдите мотив для выбранного белка"
      ],
      "metadata": {
        "id": "AIhL54-JlwL6"
      }
    },
    {
      "cell_type": "code",
      "source": [
        "!bedtools getfasta -fi U00096.3.fasta -bed /content/peaks_UxuR1_sorted.narrowPeak -fo Motif_UxuR_1.fasta"
      ],
      "metadata": {
        "colab": {
          "base_uri": "https://localhost:8080/"
        },
        "id": "F03gyJrcx-du",
        "outputId": "4e0f73de-aeca-45f6-cff6-a302dda5f9a2"
      },
      "execution_count": null,
      "outputs": [
        {
          "output_type": "stream",
          "name": "stdout",
          "text": [
            "index file U00096.3.fasta.fai not found, generating...\n"
          ]
        }
      ]
    },
    {
      "cell_type": "code",
      "source": [
        "!bedtools getfasta -fi U00096.3.fasta -bed /content/peaks_UxuR2_sorted.narrowPeak -fo Motif_UxuR_2.fasta"
      ],
      "metadata": {
        "id": "-Fz56uEhKUfk"
      },
      "execution_count": null,
      "outputs": []
    },
    {
      "cell_type": "code",
      "source": [
        "!wget https://autosome.org/ChIPMunk/chipmunk.jar"
      ],
      "metadata": {
        "id": "_W-m4Ul9Km6S"
      },
      "execution_count": null,
      "outputs": []
    },
    {
      "cell_type": "code",
      "source": [
        "!java -cp chipmunk.jar ru.autosome.ChIPMunk s:Motif_UxuR_1.fasta > ChIPMunk_UxuR_1.txt"
      ],
      "metadata": {
        "id": "8rS-HrANe13G"
      },
      "execution_count": null,
      "outputs": []
    },
    {
      "cell_type": "code",
      "source": [
        "from google.colab import files\n"
      ],
      "metadata": {
        "id": "YON4q68yhWfG"
      },
      "execution_count": null,
      "outputs": []
    },
    {
      "cell_type": "code",
      "source": [
        "files.download('ChIPMunk_UxuR_1.txt')"
      ],
      "metadata": {
        "colab": {
          "base_uri": "https://localhost:8080/",
          "height": 17
        },
        "id": "vUeCaeiIhZnO",
        "outputId": "3f21a53a-5602-4022-f600-302f8a423555"
      },
      "execution_count": null,
      "outputs": [
        {
          "output_type": "display_data",
          "data": {
            "text/plain": [
              "<IPython.core.display.Javascript object>"
            ],
            "application/javascript": [
              "\n",
              "    async function download(id, filename, size) {\n",
              "      if (!google.colab.kernel.accessAllowed) {\n",
              "        return;\n",
              "      }\n",
              "      const div = document.createElement('div');\n",
              "      const label = document.createElement('label');\n",
              "      label.textContent = `Downloading \"${filename}\": `;\n",
              "      div.appendChild(label);\n",
              "      const progress = document.createElement('progress');\n",
              "      progress.max = size;\n",
              "      div.appendChild(progress);\n",
              "      document.body.appendChild(div);\n",
              "\n",
              "      const buffers = [];\n",
              "      let downloaded = 0;\n",
              "\n",
              "      const channel = await google.colab.kernel.comms.open(id);\n",
              "      // Send a message to notify the kernel that we're ready.\n",
              "      channel.send({})\n",
              "\n",
              "      for await (const message of channel.messages) {\n",
              "        // Send a message to notify the kernel that we're ready.\n",
              "        channel.send({})\n",
              "        if (message.buffers) {\n",
              "          for (const buffer of message.buffers) {\n",
              "            buffers.push(buffer);\n",
              "            downloaded += buffer.byteLength;\n",
              "            progress.value = downloaded;\n",
              "          }\n",
              "        }\n",
              "      }\n",
              "      const blob = new Blob(buffers, {type: 'application/binary'});\n",
              "      const a = document.createElement('a');\n",
              "      a.href = window.URL.createObjectURL(blob);\n",
              "      a.download = filename;\n",
              "      div.appendChild(a);\n",
              "      a.click();\n",
              "      div.remove();\n",
              "    }\n",
              "  "
            ]
          },
          "metadata": {}
        },
        {
          "output_type": "display_data",
          "data": {
            "text/plain": [
              "<IPython.core.display.Javascript object>"
            ],
            "application/javascript": [
              "download(\"download_49825300-38f0-46a2-aac6-09c2a5426376\", \"ChIPMunk_UxuR_1.txt\", 90088)"
            ]
          },
          "metadata": {}
        }
      ]
    },
    {
      "cell_type": "code",
      "source": [
        "!java -cp chipmunk.jar ru.autosome.ChIPMunk s:Motif_UxuR_2.fasta > ChIPMunk_UxuR_2.txt"
      ],
      "metadata": {
        "id": "446fb8uNfcEZ"
      },
      "execution_count": null,
      "outputs": []
    },
    {
      "cell_type": "code",
      "source": [
        "files.download('ChIPMunk_UxuR_2.txt')"
      ],
      "metadata": {
        "colab": {
          "base_uri": "https://localhost:8080/",
          "height": 17
        },
        "id": "NIK4FIbKhiQr",
        "outputId": "08aa8dec-aa5c-4a9a-a003-7d448c8bc38b"
      },
      "execution_count": null,
      "outputs": [
        {
          "output_type": "display_data",
          "data": {
            "text/plain": [
              "<IPython.core.display.Javascript object>"
            ],
            "application/javascript": [
              "\n",
              "    async function download(id, filename, size) {\n",
              "      if (!google.colab.kernel.accessAllowed) {\n",
              "        return;\n",
              "      }\n",
              "      const div = document.createElement('div');\n",
              "      const label = document.createElement('label');\n",
              "      label.textContent = `Downloading \"${filename}\": `;\n",
              "      div.appendChild(label);\n",
              "      const progress = document.createElement('progress');\n",
              "      progress.max = size;\n",
              "      div.appendChild(progress);\n",
              "      document.body.appendChild(div);\n",
              "\n",
              "      const buffers = [];\n",
              "      let downloaded = 0;\n",
              "\n",
              "      const channel = await google.colab.kernel.comms.open(id);\n",
              "      // Send a message to notify the kernel that we're ready.\n",
              "      channel.send({})\n",
              "\n",
              "      for await (const message of channel.messages) {\n",
              "        // Send a message to notify the kernel that we're ready.\n",
              "        channel.send({})\n",
              "        if (message.buffers) {\n",
              "          for (const buffer of message.buffers) {\n",
              "            buffers.push(buffer);\n",
              "            downloaded += buffer.byteLength;\n",
              "            progress.value = downloaded;\n",
              "          }\n",
              "        }\n",
              "      }\n",
              "      const blob = new Blob(buffers, {type: 'application/binary'});\n",
              "      const a = document.createElement('a');\n",
              "      a.href = window.URL.createObjectURL(blob);\n",
              "      a.download = filename;\n",
              "      div.appendChild(a);\n",
              "      a.click();\n",
              "      div.remove();\n",
              "    }\n",
              "  "
            ]
          },
          "metadata": {}
        },
        {
          "output_type": "display_data",
          "data": {
            "text/plain": [
              "<IPython.core.display.Javascript object>"
            ],
            "application/javascript": [
              "download(\"download_e5cfc4da-577d-4fec-830e-dc7997b73a9a\", \"ChIPMunk_UxuR_2.txt\", 17472)"
            ]
          },
          "metadata": {}
        }
      ]
    },
    {
      "cell_type": "markdown",
      "source": [
        "### Подготовка файлов для Weblogo"
      ],
      "metadata": {
        "id": "YNdhIjgfqRZn"
      }
    },
    {
      "cell_type": "markdown",
      "source": [
        "Перед следующим шагом у файлов из ChipMunk была удаена шапка"
      ],
      "metadata": {
        "id": "jW5JnCUn3_ER"
      }
    },
    {
      "cell_type": "code",
      "source": [
        "ChIPMunk_UxuR_1 = pd.read_csv('/content/ChIPMunk_UxuR_1.txt', sep = '\\t', names = ['LIST|seq#',\t'pos#',\t'word',\t'score',\t'strand',\t'weight' ])\n",
        "ChIPMunk_UxuR_1.drop(['pos#','score', 'strand', 'weight'], axis = 1, inplace = True)\n",
        "ChIPMunk_UxuR_1.drop(['LIST|seq#'], axis = 1, inplace = True)\n",
        "ChIPMunk_UxuR_1.head()"
      ],
      "metadata": {
        "colab": {
          "base_uri": "https://localhost:8080/"
        },
        "id": "t2Vh9xoKyBTM",
        "outputId": "23f57b1a-342d-4760-8b82-5f684eb520eb"
      },
      "execution_count": null,
      "outputs": [
        {
          "output_type": "execute_result",
          "data": {
            "text/plain": [
              "             word\n",
              "0  CCGCCAGCGCCGCC\n",
              "1  CCGCCAGCGCCAGC\n",
              "2  CCGCCAGCGCCGCG\n",
              "3  CCGCCAGCGCCACG\n",
              "4  CCGCCAGCGCCTCC"
            ],
            "text/html": [
              "\n",
              "  <div id=\"df-7a962fe7-49fb-4d7f-82a7-31b0b72048a9\">\n",
              "    <div class=\"colab-df-container\">\n",
              "      <div>\n",
              "<style scoped>\n",
              "    .dataframe tbody tr th:only-of-type {\n",
              "        vertical-align: middle;\n",
              "    }\n",
              "\n",
              "    .dataframe tbody tr th {\n",
              "        vertical-align: top;\n",
              "    }\n",
              "\n",
              "    .dataframe thead th {\n",
              "        text-align: right;\n",
              "    }\n",
              "</style>\n",
              "<table border=\"1\" class=\"dataframe\">\n",
              "  <thead>\n",
              "    <tr style=\"text-align: right;\">\n",
              "      <th></th>\n",
              "      <th>word</th>\n",
              "    </tr>\n",
              "  </thead>\n",
              "  <tbody>\n",
              "    <tr>\n",
              "      <th>0</th>\n",
              "      <td>CCGCCAGCGCCGCC</td>\n",
              "    </tr>\n",
              "    <tr>\n",
              "      <th>1</th>\n",
              "      <td>CCGCCAGCGCCAGC</td>\n",
              "    </tr>\n",
              "    <tr>\n",
              "      <th>2</th>\n",
              "      <td>CCGCCAGCGCCGCG</td>\n",
              "    </tr>\n",
              "    <tr>\n",
              "      <th>3</th>\n",
              "      <td>CCGCCAGCGCCACG</td>\n",
              "    </tr>\n",
              "    <tr>\n",
              "      <th>4</th>\n",
              "      <td>CCGCCAGCGCCTCC</td>\n",
              "    </tr>\n",
              "  </tbody>\n",
              "</table>\n",
              "</div>\n",
              "      <button class=\"colab-df-convert\" onclick=\"convertToInteractive('df-7a962fe7-49fb-4d7f-82a7-31b0b72048a9')\"\n",
              "              title=\"Convert this dataframe to an interactive table.\"\n",
              "              style=\"display:none;\">\n",
              "        \n",
              "  <svg xmlns=\"http://www.w3.org/2000/svg\" height=\"24px\"viewBox=\"0 0 24 24\"\n",
              "       width=\"24px\">\n",
              "    <path d=\"M0 0h24v24H0V0z\" fill=\"none\"/>\n",
              "    <path d=\"M18.56 5.44l.94 2.06.94-2.06 2.06-.94-2.06-.94-.94-2.06-.94 2.06-2.06.94zm-11 1L8.5 8.5l.94-2.06 2.06-.94-2.06-.94L8.5 2.5l-.94 2.06-2.06.94zm10 10l.94 2.06.94-2.06 2.06-.94-2.06-.94-.94-2.06-.94 2.06-2.06.94z\"/><path d=\"M17.41 7.96l-1.37-1.37c-.4-.4-.92-.59-1.43-.59-.52 0-1.04.2-1.43.59L10.3 9.45l-7.72 7.72c-.78.78-.78 2.05 0 2.83L4 21.41c.39.39.9.59 1.41.59.51 0 1.02-.2 1.41-.59l7.78-7.78 2.81-2.81c.8-.78.8-2.07 0-2.86zM5.41 20L4 18.59l7.72-7.72 1.47 1.35L5.41 20z\"/>\n",
              "  </svg>\n",
              "      </button>\n",
              "      \n",
              "  <style>\n",
              "    .colab-df-container {\n",
              "      display:flex;\n",
              "      flex-wrap:wrap;\n",
              "      gap: 12px;\n",
              "    }\n",
              "\n",
              "    .colab-df-convert {\n",
              "      background-color: #E8F0FE;\n",
              "      border: none;\n",
              "      border-radius: 50%;\n",
              "      cursor: pointer;\n",
              "      display: none;\n",
              "      fill: #1967D2;\n",
              "      height: 32px;\n",
              "      padding: 0 0 0 0;\n",
              "      width: 32px;\n",
              "    }\n",
              "\n",
              "    .colab-df-convert:hover {\n",
              "      background-color: #E2EBFA;\n",
              "      box-shadow: 0px 1px 2px rgba(60, 64, 67, 0.3), 0px 1px 3px 1px rgba(60, 64, 67, 0.15);\n",
              "      fill: #174EA6;\n",
              "    }\n",
              "\n",
              "    [theme=dark] .colab-df-convert {\n",
              "      background-color: #3B4455;\n",
              "      fill: #D2E3FC;\n",
              "    }\n",
              "\n",
              "    [theme=dark] .colab-df-convert:hover {\n",
              "      background-color: #434B5C;\n",
              "      box-shadow: 0px 1px 3px 1px rgba(0, 0, 0, 0.15);\n",
              "      filter: drop-shadow(0px 1px 2px rgba(0, 0, 0, 0.3));\n",
              "      fill: #FFFFFF;\n",
              "    }\n",
              "  </style>\n",
              "\n",
              "      <script>\n",
              "        const buttonEl =\n",
              "          document.querySelector('#df-7a962fe7-49fb-4d7f-82a7-31b0b72048a9 button.colab-df-convert');\n",
              "        buttonEl.style.display =\n",
              "          google.colab.kernel.accessAllowed ? 'block' : 'none';\n",
              "\n",
              "        async function convertToInteractive(key) {\n",
              "          const element = document.querySelector('#df-7a962fe7-49fb-4d7f-82a7-31b0b72048a9');\n",
              "          const dataTable =\n",
              "            await google.colab.kernel.invokeFunction('convertToInteractive',\n",
              "                                                     [key], {});\n",
              "          if (!dataTable) return;\n",
              "\n",
              "          const docLinkHtml = 'Like what you see? Visit the ' +\n",
              "            '<a target=\"_blank\" href=https://colab.research.google.com/notebooks/data_table.ipynb>data table notebook</a>'\n",
              "            + ' to learn more about interactive tables.';\n",
              "          element.innerHTML = '';\n",
              "          dataTable['output_type'] = 'display_data';\n",
              "          await google.colab.output.renderOutput(dataTable, element);\n",
              "          const docLink = document.createElement('div');\n",
              "          docLink.innerHTML = docLinkHtml;\n",
              "          element.appendChild(docLink);\n",
              "        }\n",
              "      </script>\n",
              "    </div>\n",
              "  </div>\n",
              "  "
            ]
          },
          "metadata": {},
          "execution_count": 43
        }
      ]
    },
    {
      "cell_type": "code",
      "source": [
        "!sudo apt-get install ruby-full"
      ],
      "metadata": {
        "id": "qbdNP5tUw7QO"
      },
      "execution_count": null,
      "outputs": []
    },
    {
      "cell_type": "code",
      "source": [
        "ChIPMunk_UxuR_1.to_csv('ChIPMunk_UxuR_1.csv', sep=';', header = False)"
      ],
      "metadata": {
        "id": "UjPSLElWxKyo"
      },
      "execution_count": null,
      "outputs": []
    },
    {
      "cell_type": "code",
      "source": [
        "!ruby -ne 'puts \">\" + $_.split(\";\").first(2).join(\"\\n\")' ChIPMunk_UxuR_1.csv > ChIPMunk_UxuR_1.fasta"
      ],
      "metadata": {
        "id": "Q-tgT9lExDgy"
      },
      "execution_count": null,
      "outputs": []
    },
    {
      "cell_type": "code",
      "source": [
        "ChIPMunk_UxuR_2 = pd.read_csv('/content/ChIPMunk_UxuR_2.txt', sep = '\\t', names = ['LIST|seq#',\t'pos#',\t'word',\t'score',\t'strand',\t'weight' ])\n",
        "ChIPMunk_UxuR_2.drop(['LIST|seq#', 'pos#','score', 'strand', 'weight'], axis = 1, inplace = True)\n",
        "ChIPMunk_UxuR_2.head()"
      ],
      "metadata": {
        "colab": {
          "base_uri": "https://localhost:8080/"
        },
        "id": "0EcDH20vye1u",
        "outputId": "752dba08-476a-49b9-f70e-d1ca2cba297f"
      },
      "execution_count": null,
      "outputs": [
        {
          "output_type": "execute_result",
          "data": {
            "text/plain": [
              "            word\n",
              "0  CTGCTTTTGCAAC\n",
              "1  CTTCTTTTGCAAC\n",
              "2  CTTCTTTTGCAAC\n",
              "3  CTTCTTTTGCAAC\n",
              "4  CTTCTTTTGCAAC"
            ],
            "text/html": [
              "\n",
              "  <div id=\"df-355db721-920d-4b5f-8104-a1bf3ec742ba\">\n",
              "    <div class=\"colab-df-container\">\n",
              "      <div>\n",
              "<style scoped>\n",
              "    .dataframe tbody tr th:only-of-type {\n",
              "        vertical-align: middle;\n",
              "    }\n",
              "\n",
              "    .dataframe tbody tr th {\n",
              "        vertical-align: top;\n",
              "    }\n",
              "\n",
              "    .dataframe thead th {\n",
              "        text-align: right;\n",
              "    }\n",
              "</style>\n",
              "<table border=\"1\" class=\"dataframe\">\n",
              "  <thead>\n",
              "    <tr style=\"text-align: right;\">\n",
              "      <th></th>\n",
              "      <th>word</th>\n",
              "    </tr>\n",
              "  </thead>\n",
              "  <tbody>\n",
              "    <tr>\n",
              "      <th>0</th>\n",
              "      <td>CTGCTTTTGCAAC</td>\n",
              "    </tr>\n",
              "    <tr>\n",
              "      <th>1</th>\n",
              "      <td>CTTCTTTTGCAAC</td>\n",
              "    </tr>\n",
              "    <tr>\n",
              "      <th>2</th>\n",
              "      <td>CTTCTTTTGCAAC</td>\n",
              "    </tr>\n",
              "    <tr>\n",
              "      <th>3</th>\n",
              "      <td>CTTCTTTTGCAAC</td>\n",
              "    </tr>\n",
              "    <tr>\n",
              "      <th>4</th>\n",
              "      <td>CTTCTTTTGCAAC</td>\n",
              "    </tr>\n",
              "  </tbody>\n",
              "</table>\n",
              "</div>\n",
              "      <button class=\"colab-df-convert\" onclick=\"convertToInteractive('df-355db721-920d-4b5f-8104-a1bf3ec742ba')\"\n",
              "              title=\"Convert this dataframe to an interactive table.\"\n",
              "              style=\"display:none;\">\n",
              "        \n",
              "  <svg xmlns=\"http://www.w3.org/2000/svg\" height=\"24px\"viewBox=\"0 0 24 24\"\n",
              "       width=\"24px\">\n",
              "    <path d=\"M0 0h24v24H0V0z\" fill=\"none\"/>\n",
              "    <path d=\"M18.56 5.44l.94 2.06.94-2.06 2.06-.94-2.06-.94-.94-2.06-.94 2.06-2.06.94zm-11 1L8.5 8.5l.94-2.06 2.06-.94-2.06-.94L8.5 2.5l-.94 2.06-2.06.94zm10 10l.94 2.06.94-2.06 2.06-.94-2.06-.94-.94-2.06-.94 2.06-2.06.94z\"/><path d=\"M17.41 7.96l-1.37-1.37c-.4-.4-.92-.59-1.43-.59-.52 0-1.04.2-1.43.59L10.3 9.45l-7.72 7.72c-.78.78-.78 2.05 0 2.83L4 21.41c.39.39.9.59 1.41.59.51 0 1.02-.2 1.41-.59l7.78-7.78 2.81-2.81c.8-.78.8-2.07 0-2.86zM5.41 20L4 18.59l7.72-7.72 1.47 1.35L5.41 20z\"/>\n",
              "  </svg>\n",
              "      </button>\n",
              "      \n",
              "  <style>\n",
              "    .colab-df-container {\n",
              "      display:flex;\n",
              "      flex-wrap:wrap;\n",
              "      gap: 12px;\n",
              "    }\n",
              "\n",
              "    .colab-df-convert {\n",
              "      background-color: #E8F0FE;\n",
              "      border: none;\n",
              "      border-radius: 50%;\n",
              "      cursor: pointer;\n",
              "      display: none;\n",
              "      fill: #1967D2;\n",
              "      height: 32px;\n",
              "      padding: 0 0 0 0;\n",
              "      width: 32px;\n",
              "    }\n",
              "\n",
              "    .colab-df-convert:hover {\n",
              "      background-color: #E2EBFA;\n",
              "      box-shadow: 0px 1px 2px rgba(60, 64, 67, 0.3), 0px 1px 3px 1px rgba(60, 64, 67, 0.15);\n",
              "      fill: #174EA6;\n",
              "    }\n",
              "\n",
              "    [theme=dark] .colab-df-convert {\n",
              "      background-color: #3B4455;\n",
              "      fill: #D2E3FC;\n",
              "    }\n",
              "\n",
              "    [theme=dark] .colab-df-convert:hover {\n",
              "      background-color: #434B5C;\n",
              "      box-shadow: 0px 1px 3px 1px rgba(0, 0, 0, 0.15);\n",
              "      filter: drop-shadow(0px 1px 2px rgba(0, 0, 0, 0.3));\n",
              "      fill: #FFFFFF;\n",
              "    }\n",
              "  </style>\n",
              "\n",
              "      <script>\n",
              "        const buttonEl =\n",
              "          document.querySelector('#df-355db721-920d-4b5f-8104-a1bf3ec742ba button.colab-df-convert');\n",
              "        buttonEl.style.display =\n",
              "          google.colab.kernel.accessAllowed ? 'block' : 'none';\n",
              "\n",
              "        async function convertToInteractive(key) {\n",
              "          const element = document.querySelector('#df-355db721-920d-4b5f-8104-a1bf3ec742ba');\n",
              "          const dataTable =\n",
              "            await google.colab.kernel.invokeFunction('convertToInteractive',\n",
              "                                                     [key], {});\n",
              "          if (!dataTable) return;\n",
              "\n",
              "          const docLinkHtml = 'Like what you see? Visit the ' +\n",
              "            '<a target=\"_blank\" href=https://colab.research.google.com/notebooks/data_table.ipynb>data table notebook</a>'\n",
              "            + ' to learn more about interactive tables.';\n",
              "          element.innerHTML = '';\n",
              "          dataTable['output_type'] = 'display_data';\n",
              "          await google.colab.output.renderOutput(dataTable, element);\n",
              "          const docLink = document.createElement('div');\n",
              "          docLink.innerHTML = docLinkHtml;\n",
              "          element.appendChild(docLink);\n",
              "        }\n",
              "      </script>\n",
              "    </div>\n",
              "  </div>\n",
              "  "
            ]
          },
          "metadata": {},
          "execution_count": 48
        }
      ]
    },
    {
      "cell_type": "code",
      "source": [
        "ChIPMunk_UxuR_2.to_csv('ChIPMunk_UxuR_2.csv', sep=';', header = False)"
      ],
      "metadata": {
        "id": "xSJPQPmCysOD"
      },
      "execution_count": null,
      "outputs": []
    },
    {
      "cell_type": "code",
      "source": [
        "!ruby -ne 'puts \">\" + $_.split(\";\").first(2).join(\"\\n\")' ChIPMunk_UxuR_2.csv > ChIPMunk_UxuR_2.fasta"
      ],
      "metadata": {
        "id": "RSVSCbFdyvpK"
      },
      "execution_count": null,
      "outputs": []
    },
    {
      "cell_type": "markdown",
      "source": [
        "### Далее были нарисованы логотипы мотивов, связывающихся белком UxuR в первом и втором случаях. Для этого был использован сайт https://weblogo.threeplusone.com/create.cgi "
      ],
      "metadata": {
        "id": "vyCugHg44imC"
      }
    },
    {
      "cell_type": "markdown",
      "source": [
        "UxuR1:\n",
        "![UxuR1.png](data:image/png;base64,iVBORw0KGgoAAAANSUhEUgAABicAAAKbCAIAAAAR484GAAAJMmlDQ1BkZWZhdWx0X3JnYi5pY2MAAEiJlZVnUJNZF8fv8zzphUASQodQQ5EqJYCUEFoo0quoQOidUEVsiLgCK4qINEWQRQEXXJUia0UUC4uCAhZ0gywCyrpxFVFBWXDfGZ33HT+8/5l7z2/+c+bec8/5cAEgiINlwct7YlK6wNvJjhkYFMwE3yiMn5bC8fR0A9/VuxEArcR7ut/P+a4IEZFp/OW4uLxy+SmCdACg7GXWzEpPWeGjy0wPj//CZ1dYsFzgMt9Y4eh/eexLzr8s+pLj681dfhUKABwp+hsO/4b/c++KVDiC9NioyGymT3JUelaYIJKZttIJHpfL9BQkR8UmRH5T8P+V/B2lR2anr0RucsomQWx0TDrzfw41MjA0BF9n8cbrS48hRv9/z2dFX73kegDYcwAg+7564ZUAdO4CQPrRV09tua+UfAA67vAzBJn/eqiVDQ0IgALoQAYoAlWgCXSBETADlsAWOAAX4AF8QRDYAPggBiQCAcgCuWAHKABFYB84CKpALWgATaAVnAad4Dy4Aq6D2+AuGAaPgRBMgpdABN6BBQiCsBAZokEykBKkDulARhAbsoYcIDfIGwqCQqFoKAnKgHKhnVARVApVQXVQE/QLdA66At2EBqGH0Dg0A/0NfYQRmATTYQVYA9aH2TAHdoV94fVwNJwK58D58F64Aq6HT8Id8BX4NjwMC+GX8BwCECLCQJQRXYSNcBEPJBiJQgTIVqQQKUfqkVakG+lD7iFCZBb5gMKgaCgmShdliXJG+aH4qFTUVlQxqgp1AtWB6kXdQ42jRKjPaDJaHq2DtkDz0IHoaHQWugBdjm5Et6OvoYfRk+h3GAyGgWFhzDDOmCBMHGYzphhzGNOGuYwZxExg5rBYrAxWB2uF9cCGYdOxBdhK7EnsJewQdhL7HkfEKeGMcI64YFwSLg9XjmvGXcQN4aZwC3hxvDreAu+Bj8BvwpfgG/Dd+Dv4SfwCQYLAIlgRfAlxhB2ECkIr4RphjPCGSCSqEM2JXsRY4nZiBfEU8QZxnPiBRCVpk7ikEFIGaS/pOOky6SHpDZlM1iDbkoPJ6eS95CbyVfJT8nsxmpieGE8sQmybWLVYh9iQ2CsKnqJO4VA2UHIo5ZQzlDuUWXG8uIY4VzxMfKt4tfg58VHxOQmahKGEh0SiRLFEs8RNiWkqlqpBdaBGUPOpx6hXqRM0hKZK49L4tJ20Bto12iQdQ2fRefQ4ehH9Z/oAXSRJlTSW9JfMlqyWvCApZCAMDQaPkcAoYZxmjDA+SilIcaQipfZItUoNSc1Ly0nbSkdKF0q3SQ9Lf5RhyjjIxMvsl+mUeSKLktWW9ZLNkj0ie012Vo4uZynHlyuUOy33SB6W15b3lt8sf0y+X35OQVHBSSFFoVLhqsKsIkPRVjFOsUzxouKMEk3JWilWqUzpktILpiSTw0xgVjB7mSJleWVn5QzlOuUB5QUVloqfSp5Km8oTVYIqWzVKtUy1R1WkpqTmrpar1qL2SB2vzlaPUT+k3qc+r8HSCNDYrdGpMc2SZvFYOawW1pgmWdNGM1WzXvO+FkaLrRWvdVjrrjasbaIdo12tfUcH1jHVidU5rDO4Cr3KfFXSqvpVo7okXY5upm6L7rgeQ89NL0+vU++Vvpp+sP5+/T79zwYmBgkGDQaPDamGLoZ5ht2GfxtpG/GNqo3uryavdly9bXXX6tfGOsaRxkeMH5jQTNxNdpv0mHwyNTMVmLaazpipmYWa1ZiNsulsT3Yx+4Y52tzOfJv5efMPFqYW6RanLf6y1LWMt2y2nF7DWhO5pmHNhJWKVZhVnZXQmmkdan3UWmijbBNmU2/zzFbVNsK20XaKo8WJ45zkvLIzsBPYtdvNcy24W7iX7RF7J/tC+wEHqoOfQ5XDU0cVx2jHFkeRk4nTZqfLzmhnV+f9zqM8BR6f18QTuZi5bHHpdSW5+rhWuT5z03YTuHW7w+4u7gfcx9aqr01a2+kBPHgeBzyeeLI8Uz1/9cJ4eXpVez33NvTO9e7zofls9Gn2eedr51vi+9hP0y/Dr8ef4h/i3+Q/H2AfUBogDNQP3BJ4O0g2KDaoKxgb7B/cGDy3zmHdwXWTISYhBSEj61nrs9ff3CC7IWHDhY2UjWEbz4SiQwNCm0MXwzzC6sPmwnnhNeEiPpd/iP8ywjaiLGIm0iqyNHIqyiqqNGo62ir6QPRMjE1MecxsLDe2KvZ1nHNcbdx8vEf88filhICEtkRcYmjiuSRqUnxSb7JicnbyYIpOSkGKMNUi9WCqSOAqaEyD0tandaXTlz/F/gzNjF0Z45nWmdWZ77P8s85kS2QnZfdv0t60Z9NUjmPOT5tRm/mbe3KVc3fkjm/hbKnbCm0N39qzTXVb/rbJ7U7bT+wg7Ijf8VueQV5p3tudATu78xXyt+dP7HLa1VIgViAoGN1tubv2B9QPsT8M7Fm9p3LP58KIwltFBkXlRYvF/OJbPxr+WPHj0t6ovQMlpiVH9mH2Je0b2W+z/0SpRGlO6cQB9wMdZcyywrK3BzcevFluXF57iHAo45Cwwq2iq1Ktcl/lYlVM1XC1XXVbjXzNnpr5wxGHh47YHmmtVagtqv14NPbogzqnuo56jfryY5hjmceeN/g39P3E/qmpUbaxqPHT8aTjwhPeJ3qbzJqamuWbS1rgloyWmZMhJ+/+bP9zV6tua10bo63oFDiVcerFL6G/jJx2Pd1zhn2m9az62Zp2WnthB9SxqUPUGdMp7ArqGjzncq6n27K7/Ve9X4+fVz5ffUHyQslFwsX8i0uXci7NXU65PHsl+spEz8aex1cDr97v9eoduOZ67cZ1x+tX+zh9l25Y3Th/0+LmuVvsW523TW939Jv0t/9m8lv7gOlAxx2zO113ze92D64ZvDhkM3Tlnv296/d5928Prx0eHPEbeTAaMip8EPFg+mHCw9ePMh8tPN4+hh4rfCL+pPyp/NP637V+bxOaCi+M24/3P/N59niCP/Hyj7Q/Fifzn5Ofl08pTTVNG02fn3Gcufti3YvJlykvF2YL/pT4s+aV5quzf9n+1S8KFE2+Frxe+rv4jcyb42+N3/bMec49fZf4bmG+8L3M+xMf2B/6PgZ8nFrIWsQuVnzS+tT92fXz2FLi0tI/QiyQvpTNDAsAAAAJcEhZcwAAXEYAAFxGARSUQ0EAAAAddEVYdFNvZnR3YXJlAEdQTCBHaG9zdHNjcmlwdCA5LjI1wZk/DQAAIABJREFUeJzt3UuW4ziyNlrxrBiSR/sOKsaRg/rb4XPibajKS6knSbzMwL1XNqo8JAqi+AA/GsBlXdcLAAAAAFT1f6MbAAAAAMCEpE4AAAAA1Cd1AgAAAKA+qRMAAAAA9UmdAAAAAKhP6gQAAABAfVInAAAAAOqTOgEAAABQn9QJAAAAgPqkTgAAAADUJ3UCAAAAoD6pEwAAAAD1SZ0AAAAAqE/qBAAAAEB9UicAAAAA6pM6AQAAAFCf1AkAAACA+qROAAAAANQndQIAAACgPqkTAAAAAPVJnQAAAACoT+oEAAAAQH1SJwAAAADqkzoBAAAAUJ/UCQAAAID6pE4AAAAA1PdrdAP4YFmWp39f17VzS9572s5ojQQAAAC6WeQCMb0Kmx6N/QW3tNM2BgAAACckdQpne950q//vuLedtjQAAAA4FalTIMfyph89f8os0RgAAAAwitnEoyiMnKosofUHdWshAAAAMJxapxDexzF3v9GuF1e38dPfvMwmBwAAAGcgdQrhwIPqRsU6u55Vl+UBfAAAAEB1RtiN9yrHeR/NfHxBC7sip/f/BAAAAMxN6hTR9rDm6St7Tp/0sanDWwgAAAAMIXUarDx/6VZPdLipKp4AAADghKRO4STKaEqaqtwJAAAA5iZ1mlO0TCdRlAYAAABUIXWaQYdM5zHGEiQBAAAAb0idYjlVlBOtIAsAAACoSOo00qlil1MFagAAAIDUCQAAAID6pE58ZlInAAAAYK9foxtwarWyG6kQAAAAEI1aJwAAAADqkzqld6opyQEAAIAspE4TCju8LmzDAAAAgOrM65Rb9kKnZVkeo6jhX0o6BsT3/f1d8vavr69aLQEAgFfUOiX2NJ2RmAAAAAARqHVK6VU1kMipiuvqtTIBAACghNQpmTejz6QkAAAAQBxG2GUicgIAAACyeDKXMwG9n2C79Y/4+OmHP7Hioqq7a1uchgFsdzfLuFnDAQAYyAi76D4+0E04AgAAAARkhF1oH0ucRE4A/Hg8aSzL//4DAIDO1DoFNXZIXSORh9cBZPcxV7q+wHEXAIBuzOsUUbRZw2ulRcFTJ/M6AYnczd+0l/meAADoQK1TLFOWOAEQzbIoegIAoDmpUyDRSpwAmJjgCQCA1qROUbyKnORNADQieAIAoCnPsAsheOT02Iz3IwEByMLhHACAdswmHsLTECfUT1NlInCziQNUUTcqcrQDAKARtU7jxY+cGjnDdwSornp1knInAAAakTpFNGUcY1AeQFiO0AAAtCB1Giz4oLMfpnYCiKDdoddBHQCA6qRO9JAlXAOITDAEAEAuUqeRsmcxyp0AZuKgDgBAXb9GN4ABjs1fvq7rsZhJOAVQzqEUAIB0pE6xVAxo+pRNLcty4INylXQBnMeyXByhAQCoxQg7dniaFr1JypZlyT6KECAChU4AAGSk1ol9no6z+/nLT6JkVB1AUsqdAACoReo0zJS5zMcvpdAJYK8ZTxcAAJyCEXbstq7rsfBI5ASQgpwLAIAqpE4ctDdCEjkBHCAAAgAgryMPIINb04yqu/siWZoNzG1g6uQoCABAIfM6UUo6AwAAADwywg4Agho7vM7gPgAACkmdAAAAAKhP6gQAESk1AgAgO6kTAPCc5AsAgBJSJwAAAADqkzoBQDiKjAAAmIDUCQB4Sf4FAMBhUicAAAAA6pM6AUAsyosAAJiD1AkAeEcKBgDAMVInAAAAAOqTOgFAIAqLAACYhtQJAPhAFgYAwAFSJwAAAADqkzoBQBRKigAAmInUCQD4TCIGAMBev0Y3ACpbXBgBAABAAGqdAAAAAKhP6gQAIajUBABgMlInAGATuRgAALtInQAAAACoz2zizGZd12NvNA05AAAAVKTWCQDGk3sDADAfqRMAsJV0DACA7YywAwBgTt/f3yVv//r6qtUSADgntU4AAAAA1Cd1AoDBDFsDAGBKUicAAAAA6pM6AQA7qMwCAGCjZV3X0W2AEJZ/X0jZNYBu0uU4DpBkdzfLuFnDAaARtU4AMFK6yAkAADaSOgEAAABQn9QJANhHfRYAAFtInQAAAACoT+oEAAAAQH1SJwAYxlA1AAAmJnUCAAAAoL5lXdfRbYAQln+XHNg1gA5S1zo5TJLa073PVg0AdUmd4D+kTkB/Uifo7LrT/f37ffvH37+/7l5m8waAKn6NbgAAADS3K+S9vlj2BACFzOsEAGOkLnSCXI7tbnZSACgkdQIAYFrLUhQeCZ4AoITUCQCAOVXJjARPAHCY1AkAOMKlOMFV3ERt7QBwjNQJAIDZVM+JBE8AcIDUCQAAPhM8AcBey+qRsHC5XC6X5d99SbsG0NQcl6+OlMT0s3/9/ftdspzfv78e/2izB4Dt1DoBADCP1pHuHJExAPQhdQIAYBIiIQAIReoEABzkCp9zsuUDwEZSJwAAZtAzDBI8AcAWZhOH/zCbONDTNJesDpYE0X+fsvEDwEe/RjcAAE6n6eXx0yvhaUIuiGNZBE8A8IERdgAwj1fXwOvq8piZyVUBICapEwBM4mOuJHiCuqRdAPCe1AkAZrAxURI8MR/RDwCEJXUCAI5zwc/J2QUA4A2pEwCkt6uCSbkTMxH6AEBkUicAyO1AiiR4gookXwDwitQJALpygQoAwElInQAgscNVS8qdmECcDDdOSwAglF+jGwCVLfp9AAAAEIBaJwDISr0SZ+Y2EwDEJ3UCgJMSWkFFUjAAeCR1AgCKuNimP1sdAKQgdQKAlKpUKil3gopkYQBwx2zizGY9egllGnIAAACoSK0TAPQj34Zy9iMAyELqBAD5VBwZZ5AdVCQRA4BbUicAAAAA6pM6AQCQhmIiAEhE6gQAyRgTB5HJxQDgh9QJAM5OjAUAQAtSJwAAclBGBAC5SJ0AIJOYdUmyALhljwCAK6kTAHTiQhQAgFP5NboBAABU8/39XfL2r6+vWi0BAFDrBAAEHbgHt1QLAkA6UicAAKhMRgYAF6kTACSiIgkAgESkTgAARKd0CAAykjoBAAAAUN+yKtaHy+VyuSz/votq1wCqKy/WaH1kKmmho2Zwd8+2S/esuqS1TvYLAE5OrRMA5ODyFQCAXKROAACElrTQCQCQOgFADy6bAQA4G6kTAAA0IW4G4OSkTgBABa6uAQC4I3UCAAAAoD6pEwAk0OcBdh6TR0DK6AAgr2XVwYTL5XK5LP/u1do1gLoKr5y7HZNK2unASQvZUyf7BQBn9mt0AwAAinx/f5e8/evrq1ZLgnsT30hG2lkWqxeA85I6AQDM7Bo2/f37/ffv//74+/fX42su4icAoCqpEwDAnA6MTbu+RfYEAFRhNnEAgAmVTIe0LFFmUwrSDADgGKkTAESn8IS9qoQ1Eh8AoJARdgDQnKv3pl5NB343y/hJZg2vu7GZCbsKqxGA01LrBAAwiRb5pswUADhMrRMA8D/rKmXIqt0PN6pUp/Wm+PilbPwAUJdaJwCA9FrHJZPFMev6PEd79XcA4BipEwAAn00TPH3MlQRPAFCLEXYAALnd5kF//36/fuHnl/3+/W7O9Qlmxd7YfkNNAaAKtU4AAIl1DkdSZzG7IrO6+Vrq9QYAh0mdACC07KUlNCXL2M6uBAD9SZ0AANihT9QVIVATVAFAIfM6AQBz+vp6N0XRBAbmMukmeDrcWhM8AUCJZc3VZYBPlkp9Q7sGUFHJkan/0ehwa0ceOP8pO/j/yXfMHx6FtP65637BktbWaomeBQAnpNYJAJjT9//39/b/fv2/36NaMqVE5U6F7VTuBACHmdcJAPiXLFHCmQlBMvKrAXBCUicAaMulJrNKsW1XSVFFsQBwjNQJAKgjRQYxgTOs5zN8RwA4A/M6MZvDs4DXmoYcoCIVFgQXfHanyG0DgDNQ6wQAkIZbJKMIsADgAKkTAADHCcIAgFekTgDA6f2TIziR7+yiOgkAhpM6AQDJJcmMJnaSOEyMBQB7LYenXobJ3M0mbtcAaim5IB91KDrc5iEN/v7+Lnn71//7fblcLn+iH/aDJzt1f/oqX7bF1ljYMJ0LAM5GrRMAAKWihWIx851oawkAWpM6AQAQiGgGAKYhdQIAiE4QE0TMEioACEvqBABABXGiMdkQAATxa3QDAACK/Gc68HnFSXMAAHZR6wQAQanXAAAgNakTAHAvU+D1T6VCoFrLObczlGVl2jsAYDSpEwBAXGfIceqSCgFAHFInAGhIZAC72GUAYCZSJwAAqhEbAQA/PMMOAHjCMKUIJDgAQGpqnQAAoBNJIgCnInUCAGASfWr0VAICwEZSJwCAiPIWxeRtOQBQl9QJAAAAgPqkTgBAWv9ULaqpuzQAgNOTOgEAUJlBdgDAReoEABCQ1OYAk3wDQDRSJwAAQpC1AcBkpE4AEJGqDYjMHgoAW/wa3YCRlmc31FadCABgKCU/AMAczpg6PQ2b7v5V9gQAUGJZFAQBwNnlTp3u8qMtUdH7yOnuZbInAAAAgGOypk4bw6PCdy3LIngCAKbxtF8zx4A+XTYACCjfbOLLsvSJnEreBQA090+Dc3SLZe7UqOuxri9zmTf/BABQIlnqNCQDEjwBAHltDJVaZE/6UABwcplSp5L0R3IEAJzQ3iBJ0RMAUFGm1KmR9b/evEZoBQCkcyxCEjwBALWkmU28RaHTXdJ0/b8CJgCA/tJ1wdY1X5sBoLMZap22FCs9fdeuv0ujAIDWKnY3SkqWlDs1pVMJwHnkSJ3eFCvtDZu2aLFMAE7ItSWjlPdlcvWGcrUWAM4jR+r01MZs6GliJVcCAOhA9goAZ5Y4dWpKLAUAJFWrF6M3BAAUypo6DUmFTO0EAFH80+yk3G7JCQmeAIASaZ5hBxsJBwFIqsoZTE4EAMSRoNapJEQwqRMAQAn9JgDgsASp0yjCKQAgF50XACAUqRMAAAAA9UmdAABm0K7QqXDJZlwEgNOaeTbxwkmdTEqd1OGhkX5xAAZyFjrMuEIACCtBrZP5lQA4G6c+orFNPmW1AMB7CVInAIB/+Udd0D3xBwAQUNbU6eNgKKOlAICDpFrd6bgBwJRmntfpUeGkTsb6AQCnta6yoSd0DwHgjay1Tpe31UwKnQCA8xB8AAAx5UidXhUZNUqXhFYAQE+6HgDAlHKkTm/cJUTLsrzKjDaOjxM5AQDUpXsFAOeUZl6ndV1f5UFVcqKPCzGpEwAQUM8eiqmdAIBd0qROhd5kRoqbAAAAAKrLNMJuYLWRQicAAACAXTKlTpej6U9hZiRyAoBA/lGkDACQQ7LU6bI/AxI5AQC7dcy2Ssb666dYAwAQWb7U6bInCRI5AQBUpHMEAGyXdTbxnzzo1Vzg5YGRyAkAAADgsKyp04/q2ZCwCQAAAKBc+tSpnJgJAAAAoLqU8zoBAODGGQAQnNQJAJjdH/EMAMAARthlcjt1erSBgU+ndY/WSACg3LpeXjzN5Z1lUZwFAKcjdaLIq2cI3v6r7AmAav7Zn3bEdiC+AQDIIs0Iu+XfJv7QN40Z24A729dJhLUHwHkdHl43XcIVlm4CAMwqTeoUgejkx4FVYe0BQEUqiQGA+KRO7HY4PxI8AQAAwHlInXKIk9e8b8n6X8feDgAAAEzDbOIJxE9qHmOm61+etnxZFvOLAwAAwPTUOkUXKnJ62pg3EZJ0CQAAAE5L6vTS8LgnxaPfPuZKT18Q/3sBMJvDT7LjGfeVAIAtQoyw80C0q+Bf6nDz1nUN/tUAgL0ETwDAR2qdosiYy5QMoMv4fQEY7J/Zzh2HT4YSnyvrAQCCkzrtYJaiw6w6AMYoHFg3Xc4FANCT1IlNHkuTBEkAAADAG1KnrYQs1RlkBwAAABMLMZt4fB0ip/cfMUFAY05xAAAAOBW1Tp+pcgIAAADYK0St05ZY565MRhLUk0mdAACy+/7+Lnn719dXrZYAcB5qnQAAAACoT+oEAGTwT/HkgH8mKdRVcAwAZCF1AgAAAKA+qRP9mA0KgK6qFDeV11gBAJxViNnEOa1lWR6jqMfJywEAKPRqOvC7WcbNGg5ARWlSJ2UyAAAAAIkYYQcAMIDSXgBgelInAAAAAOqTOgEAAABQX5p5nTiPUXN4mcUcAAAAKlLrBACE90+lGwN/PJwEAKAfqRMAAAAA9Umd6OdxCNuowXQAsEOtSisAgJMZM6/Tqwl03mQQw+fckY8AQCaTDqbTH6G6r6+v0U0AYFpmEwcAgJNalsvfv9+3f/n9+0kIJe4E4BipEwAAnMveUQS3r5dAAbCd1AkAAE6hypQV14XIngDYwmzifPY4p9XwabYAANhuWepETncL1CUE4D2pEwAATKt1NiR4AuCNNCPsPEJuPn5TADb5p+pF7Z+18gIhsD6RkDF3ALwyJnUSN5yQQXkAAN3073kti+AJgHtG2LGJqZ0AODXlUaQyqptmpicA7kid6OExolLvBkBDf5xlOK/huc/wBgAQR5p5nQhoWRbhEQBAHG8Sn79/v7cs4dXLfv/+2tUMnUQALlKnc3o6OO5jfrSu67FRdcbiAQB0EKrPJXgC4GKEHYWOJUoqpAA4uVDpAHMIuFEFbBIAnUmd2OFpWvQmeFqWxYxOAACtyXcAiMkIO/Z5Os7u5y8/iZJRdQAAfUTudhlnB3ByE6ZOu/IOdTd1fVz5VjgA+/wT+HoaUtk1HXhFgieAM5tkhN1y49gbGzVsSuu6HguPRE4AhPDH+Yh5pOjGpmgkAC2kT51qZUbip732RkgiJwByU3VFPLquAASXeIRdo4TouthoEUnd9tRa2nU5RtUBEItSJs4hV+RknB3AOWVNnVoXJS3LIivZyIoCgLx6Jhe6DCcneAI4oZQj7PqMgzPaDgCAmHRUAUghX+rUMwwSPAEAQC061wBnk2yE3fYY6OOwr42LMtQOAIBQZDcAZJEpddqSE21PiH5e+XGxgicAGMNj4+BB9sjJ7E4Ap5JvhN0r67oey4a2vNFQOwAAAIBd0qROb3Kfw3lT9YUAADn8cdInpTnuhM7xLQDYIk3q9ErdqOjN0pQ7AcDZGfEHALBHjnmdXiU+LaqT1nUVMAEAEE2jLurHDrWuMQCHpa91asFQOwDIytA52GxdN03svfFlu0iyAE4icerUPxtSAwUAwAQOBEktsicAppc4dWpKuRMAAHHUuvtZGB7JngDYJUHq9LTCSCoEAAC71OpBV1mOUQQAZ5AgdQIAzsgD4+C/qgQ0dW/augUMwBZSJwAAmFyLkEjwBMBHUicA4JQ87Q4AoDGpEwDAZsb90V358Lp2RUmFSza1E8D0fo1uwGfruj6dUByesrUAAPxoPQ5uXYVHALyk1gkAwnEJd5BBcwAAkSSodXpqWZa1+wSG/T8RAIAzK8yg+/RelTtl9/39XfL2r6+vWi0B5qPW6TmjtAAASK3nDdPDn6XTDTC3HKnT0yIjwRAAAABAWFlH2DX1NM8yvC6Lw7+UHBMgEI+KgzK6rgBEkKPW6dKx3EnkBABABLnuiOkvA/AoU63Tuq6PkdD1L7VSIdUuAADAqbyaDvxulnGzhgMHpKl1unqVLpWnRcuyvFqIQicAmNOfQ6d4o/8IT+8VgCCSpU6Xt8HTm+TojffvEjkBcJhzCHAqxw56BhsATCzTCLsfT4fa/bj7p7vYaFcsJXICgDSOFS5BVLIYACYwJnXqOX1SyWfdvlcCBQBAfDqtAMSRb4QdAAAAAPGlHGEHwAndPUlnL0/eAehgXY0NBOB/pE4AQDAeEsc2y2I02b0IKyRCGwAIwgg7AACIRbkQAHOQOgEA9KYYBAA4A6kTAHBifw7FP8YAAgBsMGZep9UNPgAAAICpmU0cgBxePYTu7tl2nlUHnJYbu9TllAqUkzoBAPkdGygHwI27aez//v3XfZ3fv1+GUBJP4BWpEwDwxLFHaLnw4IB19ci2f7E26KnK9vazEGcB4I7UCQCIxETdAF20yDfFT8AdqRMARLQsuuwA1NenmO76KU5kwP+NbgAAAFsZewWU6HwMWRZHLTg7tU4AAJCeohLeG5j+qHuCM1PrBACc27Hn35l/CsgjQsFRhDYA/al1AgDuuTYAmEOo47miJzghtU4AAAATChU5/YjZKqARtU4A5Pb19TW6CYx2bIgcwNQihzue0wrnIXUCIJ/bnvTfv9+3//T79/MQSu8WaOHYhb0jEq1FjpyuBE9wElInAHIo7EDfvl03Ny5TdHdXuDvEv7JNxyqlXJatSPAEZyB1AiCuRv3mn8V26Oyua5reP+wVYdt21Qp3DuyYd1XDe1/2qsp4C7swTE/qBEBEfa5me8ZPANBahCx4L8ETzE3qBEAsQ3rMnuUMQHYZIydgev83ugEA8B/LMrjHrL/OPmWzUB1OOW2o9HE9Jvf5j5OzDcDEpE4AhBCkx+n656T+qHPjCIcL4si+NWZvP/CKEXYADBawoxlkjokgzUjAk++Acys8k5ZMBw7wnlonAEYKGDldKXoCgB/r2vxGiNMuTEmtEwDDxO9fqjaCPtY1wQEBYmqx77w69z3+3Z4LvKfWCYAxsvRTs7RzBgbKAexU/SS1t6apbg2Ucy7MR60TAAMc6Fb+/ftd8rKSSStUPAHBOUZRrmQrur5XZgQ8UusEQG8Ze6UZ2wych2PUOdX63WvVK1VZiI0ZJiN1AqCrvL3JvC0HgFfqFsopuwPuSJ0A6Edww2wGzUVlV7plbcBhLUKi8mXaqWEm5nViNovTFEQ1wd5pgicAgig/q7Y7o3kqJfBD6gRADiXTgVckeAKAjwRPwJXUCYAeWnQ9t6c/Or67WF3duCoDjolc6ARwy7xOADRX97r6+qidXd3lWk/nueoZE5wokhg0QRKHnWjjhOn0iZxKPsURBqYhdQIgk5IubMXsaVdv2P1kAADOyQg7ZrMevbwzDTk0UmvfqpXdXJdjj29BvtaTKcbgtApPYT0PHcYRA2qdAEigehfZ5ToAJ+T0B3QmdQKgoSp3OBt1kQsX6+YtxDFkf2z0oUIBAGYidQIgNBdgRGce9Ers7LBFunseh3ftdN8UeErqBEAr8Z/r7CoX6M+Rh1Fse0B/UicAgvJcZwAASE3qBEBE7sdyEklzT5FrQH4U3nNiBYaQOgHQRKLrn+Ad8URr8jhTIwFskPSMEPw8CzT1a3QDAOCe7ulASS9pAIjMmR1OS60TAAAAAPWpdQKgvpJ6mSG3Q9f1YJuXxf1bCMHOWF3h+lQ4GYq9AxhFrRMANKe7TyNDLuylCRcr4RPrB4ArqRMAQBmzoVOVnBqAaUidAKgs3fC64R8NUIUKo7n5fYGMzOsEAP8RNngyYc3cDk8rNh+rAgAmo9YJACCxzjGNVAjScd8CGEjqBEAUusXDjQkUTIpEJRIxAIjGCDsAoAKhIURgQO5G39/fJW//+vqq1RKAual1AqAmtQbA9JI+MwEA+pM6AQDk1i3tFSt3kzqcsp0A8EPqBEAIqS+xOnAVNzfbPxU5XAAQh9QJAKCYOdFjELgAQChSJwDoQTELTXVIWwQ6AMBenmEHAFwuMgViWNfom2K35pWsioFPsgv+8/149RC6u2fbeVYdQCG1TgAAAADUJ3UCAMYxHVI9TWtMshSwXFI1FQCmJ3UCgBxcS8/NzF/UNeSI4TAFwB2pEwDAJBpd84sSAIBjpE4AgFgBNum8pxRWwHVurcMIAI88ww7Gu3tayl6ergIAtwY+we29mK0CgHbUOgFAGmFLCVxLXy5RZkavvpH03+psThV1+/nCHp0AGEutEwAAfDYkWFlXgU4PNyv5cwm5YBRgO6kTAHTi6pH3am0hFceX5d1iww6y66/Dqki0nXxs6t+//5r34PfvJyHUq4XY5AAeSZ0A4jLnF30Mu2KMMSSNVxJFCbzXNHiKv50MGWYogQK4kjrBeK+igbvEQYIAXFRwXP1pvwqSJ2K2k5kokzxm7Er7+XR7InByZhMHAFLpEDlNofCSe4KYo+5XyL5CGrU/4GpZlv/8F0S09gB0JnUCAIhCWQTtTPB8w/eChzvBmwfQiNQJAE7NVdDEDv+4too7VVZISaQYcHr4UBtJokBnSFOzrBxgSuZ1AojLnF88ZcoetjuwtUS4QA34OL9pVFknETaSqzgt2cWWCZyHWicAgEpCzkG+67I86TU8u0wz51eclhxwoOhJUAVkpNaJ2SypOyBwYie58RvtWVTDxw3Rx8b9K9TGWUv5sSXIaql79LguKmMd3FV5S/7+/f78otcv+/27TpXxSc59wJmpdQKAfOJc+1Fdo0vQj9uMjeqEtpfbhJo4KUJL1jXiZFsAAal1grhM1kNG0Wp5iCvkYLT/+bNGb+F+P/vm7dXyGXbYknKSUOun0QH26YZx909xhGrSzxorH7Q4fcXTsVU0/WqBM5A6wWBvzsF3Rd0ba7mdnuEkphk3RH9++o3OtqLif9+Kg4K/Nw2w27fMkua1Dp7OEGwBMUmdoKsO/bnHj9DJgI3ciU3gj9V9FtWnMRq7q9b69DPXk5Z/8dbbwJl/nfesFjgzqROzWY92KNpNQz78RHvbAJfHRDb8shCCcO3awt4jjJ9gMn3OLyU775ZN1MEBSEfqBK3E7BO8mbuBRMz51ULMffa9aWargT627zKRd5BEuUPFphYu5/F3b3cmDfsDubUDDCF1gvpidjXuHHtkcgffZRMtTBbHvNqWjs35ddXhRw/b4QbYcuHtCBZN9cipNedBgB//N7oBMI/rQ4VzdTLSNXhuP5tQ022pz6ccFq09LdS9/jm2xiqu54Dh9WDTPfnuo3TbwPvtP8VRKMU6D9LIIM3YKMXmB7CLWieoI3UvIWzd0xlE2HLM/HU2EbY6PlIrcWm5Ep6e+KzwmEp+l4EntXZbb+upo6o73Fp9EpiDWico1aJaZF2fnGivf7z9ry697Z5i1hldYpS/DWnA8G9dInXjYaBuhZ8tLp6DX5AHb14fjz23Lf8BTEatExSp0km9m6Pncrk8ndroccKjv38vl5uZjMobo+gY/sOSAAAeWklEQVSpgxQBQfms8+cp0wiyv+SbI/l8w9CguvMcaY8JcnyOxpziQGdSJzioSj/vetYvmz77fmmX4raN7Y68mg78LnRLN2t40guDUUGkPvEB5kiu7886Nh2TKZDU7bGocDO2C2TnFwSMsIMjys+gTYuoVWhHk73Llb39H03zBSeYI/mDPw5t4TjdjGX9vzL3min8djOcDoA8pE7QW7dIqORTdEdqqTtXyKtJHzpMD3Hgi+gTD/FqvVmfMKto8Uq09jBQ0pnggbqMsIPdEp1Bjc4YqMWcX68GYz7O+XX19fVV9wlNnQe+9fm4IXt0033TXs9MnMi2iLOWJAXdlA9d9GMBfUidYJ8WF6hNpyg63CnRHSlR2Pv/WfO15vy6W3K3fmqcC6FXgjcvPkeJ1uLvRHxkNyGm1j09xy7gygg76GRgp1N/t7PCaLLD71X4KT37kU0/S4eYVk7zhD7nlzgi/BYR2sAuYatubUswE7VOsEPea1Qn725yDcC8tN+qyys1Gt2MrfJMAIA4xlbGOST2V+UXb3GSzdthBlpQ6wQ96IqdRKLIqfBzO3co607KftEhJhVnEGtgO+uKA5xhgabUOsFWTqI9PVvbO2a/StftHjLn1+2nN928ay2/1v3YKo1Jt43FcpoBaHO73QvMP/VK/2PFkN/CIXEUZ1hae/XImo36dGUJTuoEzTl3vrG9d3L3NLffv9+dw14tNuasmRG2kAht2OK6kg+3NtRVsav0HP6sETIyWwu7dN5gPh6TbcApzHSGBUKROgFdje2U3H16hKglQhs6qHvJ8bOojWuv+lZ3kl/to97r4Y/1Dlv1mbnv4ngYQIsz7K6fte5mZouC+UidgObC3v66bVhhLyfsd4yjxb1uqx1OQrHMMR0GUDOljx0k+yOwndQJaCVXj6SwsPwY/fWM/GoMES12sSNk0ajoae8G0H+DafT805iaHh9CjdYEMpI6AfWFujTaZe/Qrbt38V60y+YDdIiB7eIcMeoefnt+rwlOHH1YUTTyajrwu1nGzRrOG/83ugHAVKo/4f5yuazrkw7u9Y93/1XU4otwiXQNdkDqxtNbgznIbYGUqHKirH62ndu1L7H3v9OyacGs1DoBddTqJ5X0Oe7eW96kdPX5Kcrg3Y/9YVWQVK4DI7d+frtdB5+kv/jYk3j/w3vqc0rSbQzYQuoEVFDey2nR2zjWt77Trs965g5Wxp7xmX+vp46vkAZFQJxBxuNGZI+78LEx5h2U/PTp7h4VSrqbnOo3ghOSOkFz0/d4Cvs3dyvnbpT4K69e9nRUeeFcqo1+wek3jPdy9YzP/EsRSq4d5+TSHTfSNTiygfupowQQjXmdYCu9sadKejadp4fwC0aT5RfJ0k7owx5BfyVbXa4Ipsr+lWsnzdVa4ACpE5xCo/ksCyOn/g5/6PtvqsN0WPBVZ95cLpfL5U+sjeDM2+SZvzuFwVPP7ClCzpVlZ8nSzpPbcplgpnzeMMIOephyPst0kdPwj+apsGMB+mwqYb9+OMGin9NyCN3IigqoT2csTu8o/vnFbhJBqEDWJjErqRPsYD7LKqyHH7aKq8KJt1rwu7xn/YwV/2KSuAqn8x+a/5Zv+de3NzqC1Z3msorIxwrnkSHCbg9Xj82zncxB6gT7pAueDrf2fVPbnbSeTgce3+ENo+5WkXrmiyCdY/0bgLCqnCmqZ08RTl6vBDm33nKe7SzaBrDLbeNtOXmZ1wm66nzcD3iaccLgjbHzKJnFicoKi0reyjU13mRtSKx8m2y5VW9Uaxson2um4mw1TTfsUHtNqMbMrcr2ee0aPf1v+yvfvGsXk0PlJXWC3bIcMePMLHASjaYq7yNCG370T3/kTUBFQY8ntQKjiYKnq43THrebGrnDBhPkNBehDWdQuH3WCokaLVz2lJERdnCEmQV4qmSc3WXcmo958u4w2VOQTT3g8IeGAlyvTqPzlvNxfznXlsxorc8RfTbm/rdYRu2kQU6402txy/n7+3vL21+97M3UGSV7salRc1HrBAdVuQNQ93ZZrUpaRhnSFwx+ldjihlu7O3gnYdXFcc7f4pzfulTdwDdMfJx6Yxg1TlY18axK5nIdPr/Bgf9IROoERapPLrArNqpe6e0IXi7LAMzOn1XF4a6GbgoUsuNsF3FdtQiJIgVPEdf5W8Pb3KcBw7/mqTR6fBBUIXWCUi0O1k+nGGg3ocCVs04ttYrg2kmXNz1yN4yuhj4t/j1bOFzyBByh2tnoLOnkC9yROkEF2U+u2dsfUMABmC0WSC12wA8Chz4RtN5+Am6fAZsUV7uipDDlTj8i92fit62khe70AG+YTRyq6TD5cXUl3QuT/31Ua9rOu4VsX4G5tkYgoPMcsasIt7paB0P/LAFD4Z9fIcJJMNwm8Um6BtPam+nAYSOpE1QWqq/zytguxfDg6dhPc6zNLbLIyJvW5RLx7ncP8a67GnFBElOtjDuRE37l3c55NL4xsEvmUEkWw7vlnIERdtBKwErjuk0K9dW2G3KVEm1LeCVLOyGNjpf9LXbewpn7zzbJ2gxf8ECAniHb6rAdnmpTJ6CSrW54gr9xQtum89vSlNSJ2SxHtWvS2F5IzD7QqLPF2FNUtF/hTuS2nYH1T7m6W5FtMrcDYdDhms0MwdOtA/HoyRNVUkgaPMmPzkDqBF217qN07gYVLr/zaabk4yquyYDd07smRWse88h2aZrRqapZUzRyjJLI6Vj2NNfefcJQ6VixiWqUaEo2186/WsnHnWSvnIl5nWCkCY6YhTNrXN/bYT0EiZwelzmwT9ZqtTed4ajwwuY0sy81MsEh6wzKJzzyQx9gpRHZqM7G+88Nu9d8f3+XvH349NuFk4oefojN3iUfEHab4T21TkCp8hsO7e6ulC+5Q71Y51upWz7OSR1SK9mFc+3+uVrbSfnYOuVOyWWpOUrRyLxqdS+D1L6pb0pNrRNQR/nd9UuluysVOy6dT2+PH1fluxz7Fk7t/VXZiUJLXWuWrfHH7nXb8Y8JtN5qRT9/1iOL+mfJtafk7TA8qnv6GNIBu3378PU5k7uVmaWnYRuYidSJ2axHD1FNJxQ/icKC3kcTjj7bKUgzgKS2H5YdbWZwLHJKlRPt0rMXMWovC1XN/WqBBxrZbQaGE2p0j7OQ33puRthBCEGKV6vIXgGbvf3QiP0iry1P5spreOOHN6DIm8gp2zi7gD2iOxVbWD4Tc8/t9vAnxvwd5/PxEY0HpoPYtczcR1E2WA4XhsBk7mqd6u4a0U6ZPff7aN/9FcfCHGafTTzy/mIfIayxO06UXaNRoVPs+qmmP33PkpBdW9HhsIlCd7OMD581HLIwwg7qi3zdePXYwnZ9kdslB1wzOmGEMvnUTuecbDh81jmBgTtOlJNI7GyoroGPwdryxmPN+3nXx48QOcFA2Z9vOIrUCerIfrdte3enRIQEKl/Hq/xCPed1BaHk23E4mckT2xY2nhoiTSseag6jLR90bD6jN021kQMZSZ3guJPfbSv0dPkzPU2mVMWqkOuiZE8AVUU50bSuIgwQPB3uHoz9jaJsIQ30zL8mXo1wElInOMLdtkZ0LC6XZtcPsqcklGychfGGtZ103znB2LqkkRNMw11hCnmGHeyT6IkhTz/d4yRC+2dpfiHa4SOYjqMBPEq8XxyInLI9z+6S+gd67fCXOmMg+28tnhNd8QnUYx+/2LM9Ab8+Hah1gh3cbaOVA13zu2uAXUtQ9wTMqFu5U5TTes9YZ9A4uziXoEHGlB3eyK/vqrXpliyn3ZpsPffF3UTSe1fC9uY9fWWt3y7OPvVKz6ce7fVqOnDPN3xP6gTNxTlQEk7FkRHXP8qepjDtQKGmG1vh5bcdYRbT7j6PTjC2jqeuHcvg03e++eggi003j0TJ3BeeesRYUifYKk4vNsjdNoo0ulo4nD1tWTin5CAAd0LsFEMipxHlTieKEXf62Q4L46e7pVXU+oeLkzd120R3BU+eekQcUieguVz9xeansfLBdBtfv/eDlD4BU2iaU+S+1Bk10dKI4KnugLLCRfWpNCn5lFxdtat2e/rdaKmPL/v7919///178OgqTz0iGqkTbOVu23sD76hsEWIsfYe86fG9sqecHHDmZ7xhS432oCgXOed7KESQyYyO6XYwv/uaYU8iVWKy20XtXU7repme5Ui1Fjh2H4lyaN3pdm3fJY9NZ+bKSOoEO7jbVmtppxpLX3R5MPC+9CXklWfAJk3tzD0ksqsePEXZHZJGTsXTiqebzGh46NNhtp1jzbj9pypNOhy3vXrlXYJQqOf4u2OiHNy6GLhjVvzodD+Z1An2cbetcFEnGUv/H0mvDX6EzZ4ANqgYPKXr4kdUHDxdyrKnxzfW/VmHx0wfHfi+rUs2WuxZb5bZ5zfa8ilPGxktFsyu50jDwucb/tjY5siP+XtK6gS7udt2Mfzno8iPFjo25u4ifupt+F4WvAcDW1TZjwLtCxPczKhxKqk1REtP5qNAG38NG7/OtmmdSj+l4hsvkTbmCE89inN3PF0DGpE6wUHutgUZSx/uIbKR86bbzzr2HKKL7AlIpjB4CnQNkD1yaiDFTEYpGsmtr6/B04EzyseRDXtnmr9z2k1L6gRF3G2rPpb+1ZKP6bdiD18MjApxsmVPfR4AFM3wcieYw7HbJGGPDLlVKnd6KsioJVsO/ekw3Cp5QF7TyoCNH7pX/GOO1AnqSHEjq0MjK46l7/zc69KPS1oBFKbZY3eZ958e/1zewjm/NXPbflUWcfufqdCpZfD0aO+vmXEmI7h46tEL79vz8RPvXlA403zeoX+FpE7RLc+2zTXedpelnd242/YoVGMeBW/eZGLGsq8Muet1+3G5VhdE9r5COe6JIPLY7ZnisMvlEnkzaKrK7xjmVtZpeerRXoWzhrf+uGlInYJ6GuLc/WuETCdLO4Nwt40za/F05BJVJmWbdSea9XvBj0wbefBY5896cLC2hCKCulvXBI8fqb67dV8VnnpEQFKncN7nOI+vHJXpZGlnatYZEwg7ie/jwiPUpQPUEf+yX/A0UOsoM1381G6FDFoVnnrUyGmnAy8kdYple5Rz+5b+gU6WdgIDpRu7friL9vGJJ4U6D7JzqIZAIo+tu/244AVZXB34mR63pV0LiRw/dV4bt6/stTY89YggBAGBHIhyfvT8HbO0c6+77xW5qSGcs3/5qpdgbfxburwpPqnTZ4W7YcArohLWxhxyPR21UUDmDFuuxU+TIg991LTZedZJzBTpwFOPsvZYXoj5u1Sh1imK91HOTwLy6mXdKomytBNIx7HhjW7lTn4FSG/4hf0uxtk1VaWc5/3L4pc+dQuD8qwTTz26M3Hc09O7R5mLAILY9Qy4V5lOh18zSzsP+Fzr5G5bN+7S38q2No6duVscFearD+rwjUIenrfJtqe0lW5tOMM+ylM38T/p2pxuT9loyA8R7ddPfVQJu2ndiPwkUClSoeq/o1qnEHZFOdd/KhnmdliWdrbS9AQwa78Htmk9NRJb+AkgitQXzHspd6qlcLMZstVdP7TWBhAt+bp1rADqEreTH7nPcNu2mS5Gu3lcaYU/t9QpqI/VQE8Dnf7j17K0E+jm8FgwwdNHTcfZWfmM5L7OrVzTOd014FjjBU8lJsgoD48yS7Sz3H7idAlUZLW6NydPrwq/vtRpvMPVQJ0ribK0ExguSPBUsigHLWCY1BeWqRufS5bApekkR0m3t6TNPrekN+eCdGilThGV1AH1LCPK0k6gv+v+feBU9/OWUUeIIKfnVxqVOzkeA+SQJWy6+9y9zR4y73hqH9ewNXlKQTp4UqfcspQRZWknUTgvzuJw9vT4rqZnzVzHp+rBU5AeCQCfJe0jJW12Ik9H8FntxCB1Guwxi4lZAZSlnUBAP0eLkqxk43tPMn9kxeDJsRzCmWCangNcHgNMSuo0oSyD17K0E6jlbo9vkQpVz2Imjq4uIicA8jKmDJKQOqWXZfBalnYO47zIK/NuG08jjyHHiTfhS9PHxpUob5jICYLyRL9uJvs6Z2NMGXu9OQDaclqSOgH1vO/LOpqzweEopN005GHTmZJps8J+KQBeUt3DFjaDS8EE9j+sxnqkTiNlmSwpSzsZ6e5I/fTu0/V/OILTxmkPSweKnk67rgByU93zipXAHZtEJFInoMzTOwlvbi/InqC27cHTzHmTowoAQDxSJ9ij/LEyM10Xvalv+viWubInF/wM93G0nc3vXGY5usLlovcF29hTiMpDxEaqNXKt9Qi4LO0sdNe8UG0DAACAdP5vdAOoIEs+kqWdAAAAQDkj7Oa0LDmq2J6287EkapQ4LQEAAICPokUBap0AAAAAqE/qBAAAAEB9UicAAAAA6pM6AQAAAFCf2cQJJ87kZ8Nbcjed+fD2jGVt3LI2blkbt6yNW9bGLWvjlrVxy9q4ZW3csjZuWRu3rI1b1sZ7ap0AAAAAqE/qBAAAAEB9UqcZ3FX0XaIW9WVpJwAAAFBO6gQAAABAfVInAAAAAOqTOgEAAABQn9QJAAAAgPoW0zmPVWWC7Q6zdGdpJ8DJ3R1pHWYBdnEUBahLrRMAAAAA9UmdJpTlnkyWdgIAAAAHSJ3Sexy2FlOWdgIAAABVSJ0Ge6z3iZnOZGknAAAAEITUKbcs83NnaScAAABQi9QpoixlRFnaCQAAAPT3a3QDuKzreiy+ORz6PH3jx+Kj/u0EAAAA8lLrFNSxpKb/sLUs7QQAAAA6kzqF8DSFeRPoLMsyZKakLO0EAAAAhjPCLoqn49d+/vKT1AwfrZalnQAAAMBYUqccPoY4QQqIsrQTYFYOswAlHEUB6jLCLpB1XY+d5zqfHbO0EwAAABhI6hTO3mhmVJSTpZ0AAADAEIssIKwso9WytBMAAADoSeoEAAAAQH1G2AEAAABQn9QJAAAAgPqkTgAAAADUJ3UCAAAAoD6pEwAAAAD1SZ0AAAAAqE/qBAAAAEB9UicAAAAA6pM6AQAAAFCf1AkAAACA+qROAAAAANQndQIAAACgPqkTAAAAAPX9Gt0AAACAVpZl+fnf67q2/ojWnwWQi9QJAJJ5enlzjIsigMPeH42v/+owC5yc1AkAAJhTxZj+2GJlT8DJmdcJAABgqwNJVqPwCyA+qRMAAMAmh/MjwRNwTlInAABgQtWDnvcLXP+rW3sA4jOvEwAAMJtuEc9jzHT9y9MGLMtijifgVKROAJDJ42WMCxiAOy0ip6fLfHMEXtdVcROAEXYAAMAklmUZWOW05QWiKOBU1DoBAABZ9QlxDn+Kiifg5NQ6AUBihtcBZzYw0Ck5/MqhgPOQOgEAALTi9gBwZlInAACAlzzGAeAwqRMAAEBXBtkBJ2E2cQBIw1UKwK33NUdxjpnmFAdOS60TAAAAAPVJnQAAAJ4zqRNACSPsACCruyufV8M3XCABADCE1AkA0ns/XcjPv4qfAADoSeoEAIntmp72+mLZEwAAfZjXCQCyOvZEJM9RAuhP4g+ck9QJAHKomBYJngCGcygGzsAIOwCYxMbJxX/+1Y13AACakjoBQHpP86OfP7qdDgDAEEbYAUBi67p+LFl69QJpFAAATUmdACCr7UPkBE8AAPQndQKAlPbOymQWJwAAOjOvEwDkUB4breuquAkAgG7UOgHAqcmhAABoROoEACdinB3AEI8RvwMycAZSJwAAAADqkzoBAAAAUJ/UCQAAAID6pE4AAAAA1Cd1AgAAeO5xzm+P/gTYTuoEAAAAQH2/RjcAAPjA87YBJuMwDpyEWicAiK7pxYkrH4DWDMoDTkvqBAD5HL6AceUDsJepnQAOkzoBAAC0YpQ0cGZSJwBI6cCddlc+ALUodwLYQuoEAAk8jYd2XfO4QAI47HBG79gLnJzUCQAS23g98/RlCp0AShxLlBx7gVOROgFADq8uVN5f9izL4k47QLm9NadPD78iJ+BsFgc+AEikVoSkAwBMr0Xo8+Yg/LPwLa8BOIlfoxsAAOywrmt58OSyB6C6jwdnx17ghIywA4BkCq9bXPYAHLau67GjqGMvcE5SJwDI5/A1j8segHJ7j6WOvcBpmdcJAHLbMuDO6R6gBaPqAN6TOgEAAABQnxF2AAAAANQndQIAAACgPqkTAAAAAPVJnQAAAACoT+oEAAAAQH1SJwAAAADqkzoBAAAAUJ/UCQAAAID6pE4AAAAA1Cd1AgAAAKA+qRMAAAAA9UmdAAAAAKhP6gQAAABAfVInAAAAAOqTOgEAAABQn9QJAAAAgPqkTgAAAADUJ3UCAAAAoD6pEwAAAAD1SZ0AAAAAqE/qBAAAAEB9UicAAAAA6pM6AQAAAFCf1AkAAACA+n6NbgAAAMCpLcty+3/XdY3/3gNuP67iZ3X+Frxy90Ncne3n+FkJ5V98mvUpdQIAABhpXdfbK8xlWQ5fW5a8Fw54Go48/mutzfL9x20XdjfZsj7DNv4pI+wAAABSKrkCVyJEue1bYK20aGLLsmxcS9tfGYHUCQAAANhnb/CRKCg5pmIK3PrjejLCDgAAANjhMfJ4LJd7fI0RoNtNsz6lTgAAAIOZ2onUnm5y1z/WLckp2S/KF7Jx+YXvfdW8FuuzAyPsAAAA8im5ijapEyV2bT93/zokNGkXOS3/VbKEwgaUvL0DtU4AAADAESeMLJsGPR/X511dZHxqnQAAAKaS66IUmmo9tq6ijc0L/i3uqHUCAAAYb9fUTqNypUZD87ZMTT1c9e/eYmXGHDs5sDwnUeQ0K6kTAABAYtdr6cMX9hsvxZ8u/OePVeZ4fvx7hJjgfQsvhxr5ZmX+LG1XXNKikXs/6zxerUxr5impEwAAwInsvTbe8vpjIdHHJY/NnjauqF2N3PKVd33fFo2chkKnCMzrBAAAMJtaZRe7ltPoxcOfelbr9bsSorqvPPb6p9Z/6/a5e6WInM5QHqXWCQAAIISNo+Revab67Dkfp1t6fMHGUp030w+9Gn02PDio9d23LPDw71i9kdUN/x1DObY2cmVVUicAAICItgQEhdfw2ycsf/rK6x/vXrkr13h85dNldnb4u5css/oCDyyzBYVOJ2eEHQAAwITez/+9y/vr9sNX9W/e+PhP3cKLXY+B+1hbtHeZx8asVWlkXct/vWkJB6RbpVInAAAA/mVvMHEg12hdxtXN3nYO+V59PnS5MaoNl6kLnXKNrbuSOgEAAETx8SL5/RV1i2vsgdftwyODAw0ozwU6xFidw4vt847zxsd51mKSOgEAAATVNB2oe8na4QK4Q1bS4iOqLzNdwcubAqgWn/Xzv1OEMls8XXtZvp3UCQAAYE7HrvM7pANZLpg3Kpk9vZsOH73+16sXpMvLhhs+XLGc1AkAACCHwvmSDlzzJ7q4rS5FQhTzB1pv3P1T0+BpskKnV3lTrq/2a3QDAAAA+J91XavMxl3F8OKUjWuDsPyCB7xaY7nypiu1TgAAAHE1umLPePlKUgcecXjANIVOc5Q4/VDrBAAAMK1lWZJerMLZZJ/C6SmpEwAAQALbK0Sejmk6VmCS/YqXIFqPs5tgEF/ep9S9Z4QdAABALB+vNue4HIUWMu4ds0ZOF6kTAADA3EouaIeXkAxvwBCRv/VyY3RbJjFx5HSROgEAAATn8n6IFqu9+jJtG5fpVsJMkdNF6gQAABDf3udzlTw17PBF7/YqmMkmmUqReoxtZLdPD7uRvHK3ZtK1/yOpEwAAQDjpLj5TVAZ9VL7aH5dQ/ads0chjUsRtiaTb67eQOgEAAJzI3ivbA8nClo9IEVhsaeTeL1K9EKxFI984kIw0LedJsSGdmdQJAABgQiXX9nsH6B278n//rlEjj3Z9941ffPsyqy9w+zKPqbjw5d8OLKFkIyn/9GMf2ueDBvo1ugEAAABsNWoMzvXy+PHTCx+/tSxL3WW2qMx62sinn7WrnVu++HYtGrn9o18tdu6ns1U32XxnV1InAACAiNZ1HVgK8fTTP7Zn40znt8sJWO7x+N23NPL9d9+1zC0/fYtGbnRs26j16Xs/lLGMsAMAADiLXZf9ezOC7a9v2owqWnz3jctstBoPvL7uooKX5NCI1AkAAGBOVR52Vj0r2f767Z/eQov05+MrgyR91Rcocjqt5yM/AQAA4Nar0UyFF5VPFxvqQvX9ULhay3wzQXjhMwE7rMyxn05kUicAAAAIZNTz+6A6I+wAAAAgKJETqXmGHQAAADS0d7gcTEOtEwAAAAD1SZ0AAACgkzcTbz++QGEU2UmdAAAAoKE3z6e78zGTglzM6wQAAABdbUmXFDoxAbVOAAAA0NbeCEnkxBwWmzIAAAD0ocqJU5E6AQAAQG+P8ZPLc+YjdQIAAACgPvM6AQAAAFCf1AkAAACA+qROAAAAANQndQIAAACgPqkTAAAAAPX9/129KGLlFHnGAAAAAElFTkSuQmCC)"
      ],
      "metadata": {
        "id": "LfPnUbNZ48i0"
      }
    },
    {
      "cell_type": "markdown",
      "source": [
        "UxuR2:\n",
        "![UxuR2.png](data:image/png;base64,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)"
      ],
      "metadata": {
        "id": "4A24msAi5VG4"
      }
    }
  ]
}